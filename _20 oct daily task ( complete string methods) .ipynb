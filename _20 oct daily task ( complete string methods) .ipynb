{
 "cells": [
  {
   "cell_type": "markdown",
   "id": "c05ac7e0",
   "metadata": {},
   "source": [
    "# 20 oct 2023 --"
   ]
  },
  {
   "cell_type": "markdown",
   "id": "ca2435f9",
   "metadata": {},
   "source": [
    "# Documentation of strings and strings methods"
   ]
  },
  {
   "cell_type": "markdown",
   "id": "08817e06",
   "metadata": {},
   "source": [
    " # with proper explanation using markdown, comments, examples and code.\n"
   ]
  },
  {
   "cell_type": "markdown",
   "id": "6641a430",
   "metadata": {},
   "source": [
    "# strings"
   ]
  },
  {
   "cell_type": "markdown",
   "id": "a432c860",
   "metadata": {},
   "source": [
    "#####  -  In programming, a string is a data type used to represent a sequence of characters.\n",
    "#####  -  These characters can include letters, numbers, symbols, and whitespace. \n",
    "#####  -  Strings are a fundamental data type in many programming languages, including Python."
   ]
  },
  {
   "cell_type": "markdown",
   "id": "46740f8f",
   "metadata": {},
   "source": [
    "### Sequence of Characters:\n",
    "#### A string is an ordered sequence of characters, which can be letters, digits, symbols, or even spaces. \n",
    "#### Strings are typically enclosed in single quotes (''),   ex - ('vikram')\n",
    "#### double quotes (\"\")    ex - (\"vikram\")\n",
    "#### triple quotes (''' or \"\"\") in most programming languages, including Python.   ex - ('''vikram is a good boy''')"
   ]
  },
  {
   "cell_type": "markdown",
   "id": "7c78113b",
   "metadata": {},
   "source": [
    "### eample -"
   ]
  },
  {
   "cell_type": "code",
   "execution_count": 1,
   "id": "f462485e",
   "metadata": {},
   "outputs": [
    {
     "data": {
      "text/plain": [
       "'vikram is a good boy'"
      ]
     },
     "execution_count": 1,
     "metadata": {},
     "output_type": "execute_result"
    }
   ],
   "source": [
    "a='vikram is a good boy'\n",
    "a"
   ]
  },
  {
   "cell_type": "code",
   "execution_count": 4,
   "id": "bcf10e84",
   "metadata": {},
   "outputs": [
    {
     "data": {
      "text/plain": [
       "\"vikram is 's a good boy\""
      ]
     },
     "execution_count": 4,
     "metadata": {},
     "output_type": "execute_result"
    }
   ],
   "source": [
    "a=\"vikram is \\'s a good boy\"\n",
    "a"
   ]
  },
  {
   "cell_type": "markdown",
   "id": "f9f25411",
   "metadata": {},
   "source": [
    "### > In Python, strings are a built-in data type, and they come with several methods that you can use to manipulate and work with strings. "
   ]
  },
  {
   "cell_type": "markdown",
   "id": "7fcfd441",
   "metadata": {},
   "source": [
    "### > In Python, strings are a built-in data type, and they come with several methods that you can use to manipulate and work with strings. "
   ]
  },
  {
   "cell_type": "markdown",
   "id": "2b770cfb",
   "metadata": {},
   "source": [
    "# methods of string"
   ]
  },
  {
   "cell_type": "markdown",
   "id": "68a374d0",
   "metadata": {},
   "source": [
    "####   >..there are total 46 strings methods are there"
   ]
  },
  {
   "cell_type": "markdown",
   "id": "5e1fed91",
   "metadata": {},
   "source": [
    "#### >..that is \n",
    " 'capitalize'\n",
    " 'casefold',\n",
    " 'center',\n",
    " 'count',\n",
    " 'encode',\n",
    " 'endswith',\n",
    " 'expandtabs',\n",
    " 'find',\n",
    " 'format',\n",
    " 'format_map',\n",
    " 'index',\n",
    " 'isalnum',\n",
    " 'isalpha',\n",
    " 'isascii',\n",
    " 'isdecimal',\n",
    " 'isdigit',\n",
    " 'isidentifier',\n",
    " 'islower',\n",
    " 'isnumeric',\n",
    " 'isprintable',\n",
    " 'isspace',\n",
    " 'istitle',\n",
    " 'isupper',\n",
    " 'join',\n",
    " 'ljust',\n",
    " 'lower',\n",
    " 'lstrip',\n",
    " 'maketrans',\n",
    " 'partition',\n",
    " 'removeprefix',\n",
    " 'removesuffix',\n",
    " 'replace',\n",
    " 'rfind',\n",
    " 'rindex',\n",
    " 'rjust',\n",
    " 'rpartition',\n",
    " 'rsplit',\n",
    " 'rstrip',\n",
    " 'split',\n",
    " 'splitlines',\n",
    " 'startswith',\n",
    " 'strip',\n",
    " 'swapcase',\n",
    " 'title',\n",
    " 'translate',\n",
    " 'upper',\n",
    " 'zfill']"
   ]
  },
  {
   "cell_type": "markdown",
   "id": "52ec1bcd",
   "metadata": {},
   "source": [
    "### 1.) capitalize():\n",
    "    Converts the first character to uppercase and the rest to lowercase."
   ]
  },
  {
   "cell_type": "markdown",
   "id": "9eae1fca",
   "metadata": {},
   "source": [
    "#### Parameter:\n",
    "\n",
    "The capitalize() function does not takes any parameter."
   ]
  },
  {
   "cell_type": "markdown",
   "id": "8302417f",
   "metadata": {},
   "source": [
    "#### example - "
   ]
  },
  {
   "cell_type": "code",
   "execution_count": 7,
   "id": "019cbf8b",
   "metadata": {},
   "outputs": [
    {
     "data": {
      "text/plain": [
       "'apple was eate by vikram'"
      ]
     },
     "execution_count": 7,
     "metadata": {},
     "output_type": "execute_result"
    }
   ],
   "source": [
    "x = 'apple was eate by vikram'\n",
    "x"
   ]
  },
  {
   "cell_type": "code",
   "execution_count": 8,
   "id": "b5f9c743",
   "metadata": {},
   "outputs": [
    {
     "data": {
      "text/plain": [
       "'Apple was eate by vikram'"
      ]
     },
     "execution_count": 8,
     "metadata": {},
     "output_type": "execute_result"
    }
   ],
   "source": [
    "x.capitalize()"
   ]
  },
  {
   "cell_type": "markdown",
   "id": "7f2f23d8",
   "metadata": {},
   "source": [
    "### 2.) casefold()\n",
    "  It converts the entire string to lowercase, just like the 'lower()' method. This means it makes all characters in the string lowercase.\n",
    "    "
   ]
  },
  {
   "cell_type": "markdown",
   "id": "c4403728",
   "metadata": {},
   "source": [
    "#### Parameters:\n",
    "\n",
    "The casefold() method doesn’t take any parameters."
   ]
  },
  {
   "cell_type": "markdown",
   "id": "8858c2fb",
   "metadata": {},
   "source": [
    "#### example -"
   ]
  },
  {
   "cell_type": "code",
   "execution_count": 10,
   "id": "64ca0bf7",
   "metadata": {},
   "outputs": [
    {
     "data": {
      "text/plain": [
       "'VIKRAM IS A GOOD BOY'"
      ]
     },
     "execution_count": 10,
     "metadata": {},
     "output_type": "execute_result"
    }
   ],
   "source": [
    "x = 'VIKRAM IS A GOOD BOY'\n",
    "x"
   ]
  },
  {
   "cell_type": "code",
   "execution_count": 11,
   "id": "d333088b",
   "metadata": {},
   "outputs": [
    {
     "data": {
      "text/plain": [
       "'vikram is a good boy'"
      ]
     },
     "execution_count": 11,
     "metadata": {},
     "output_type": "execute_result"
    }
   ],
   "source": [
    "x.casefold()"
   ]
  },
  {
   "cell_type": "markdown",
   "id": "8645025a",
   "metadata": {},
   "source": [
    "### 3.) center()\n",
    "   Returns a centered string of a specified width, padded with a specified character.\n"
   ]
  },
  {
   "cell_type": "markdown",
   "id": "71e7278d",
   "metadata": {},
   "source": [
    " #### In this example, the center() method takes the original string \"vikram\" and centers it within a width of 20   characters, using asterisks ('*') as padding on both sides. \n",
    "\n",
    "### The resulting string is 20 characters wide with \"vikram\" in the center."
   ]
  },
  {
   "cell_type": "markdown",
   "id": "bf2acc39",
   "metadata": {},
   "source": [
    "### Parameter Values\n",
    "\n",
    " #### > length Required. ------>The length of the returned string\n",
    "####  >  character Optional. -----> The character to fill the missing space on each side.\n",
    "Default is \" \" (space)"
   ]
  },
  {
   "cell_type": "code",
   "execution_count": 6,
   "id": "885ad48f",
   "metadata": {},
   "outputs": [],
   "source": [
    " # that vikram word will be in center "
   ]
  },
  {
   "cell_type": "markdown",
   "id": "5e8e8ce5",
   "metadata": {},
   "source": [
    "#### example - "
   ]
  },
  {
   "cell_type": "code",
   "execution_count": 2,
   "id": "0236bfef",
   "metadata": {},
   "outputs": [
    {
     "data": {
      "text/plain": [
       "'vikram'"
      ]
     },
     "execution_count": 2,
     "metadata": {},
     "output_type": "execute_result"
    }
   ],
   "source": [
    "a='vikram'\n",
    "a\n"
   ]
  },
  {
   "cell_type": "code",
   "execution_count": 3,
   "id": "2e0fd736",
   "metadata": {},
   "outputs": [
    {
     "data": {
      "text/plain": [
       "'**vikram**'"
      ]
     },
     "execution_count": 3,
     "metadata": {},
     "output_type": "execute_result"
    }
   ],
   "source": [
    "a.center(10,'*')     "
   ]
  },
  {
   "cell_type": "code",
   "execution_count": 4,
   "id": "c0f7d447",
   "metadata": {},
   "outputs": [
    {
     "data": {
      "text/plain": [
       "'*******vikram*******'"
      ]
     },
     "execution_count": 4,
     "metadata": {},
     "output_type": "execute_result"
    }
   ],
   "source": [
    "a.center(20,'*')"
   ]
  },
  {
   "cell_type": "markdown",
   "id": "989e6f2d",
   "metadata": {},
   "source": [
    "###  4.)count()"
   ]
  },
  {
   "cell_type": "markdown",
   "id": "0bf107b3",
   "metadata": {},
   "source": [
    "#### The count() method in Python is used to count the number of non-overlapping occurrences of a substring (or a single character) within a given string."
   ]
  },
  {
   "cell_type": "markdown",
   "id": "880aeffd",
   "metadata": {},
   "source": [
    "### Parameter Values\n",
    "\n",
    "#### value Required. A String. The string to value to search for\n",
    "#### Optional. An Integer. The position to start the search. Default is 0\n",
    "#### end Optional. An Integer. The position to end the search. Default is the end of the string"
   ]
  },
  {
   "cell_type": "markdown",
   "id": "8d00e5f2",
   "metadata": {},
   "source": [
    "#### example"
   ]
  },
  {
   "cell_type": "code",
   "execution_count": 1,
   "id": "accdeed6",
   "metadata": {},
   "outputs": [
    {
     "data": {
      "text/plain": [
       "'can you can a can as a canner can can a can'"
      ]
     },
     "execution_count": 1,
     "metadata": {},
     "output_type": "execute_result"
    }
   ],
   "source": [
    "z = 'can you can a can as a canner can can a can'\n",
    "z"
   ]
  },
  {
   "cell_type": "code",
   "execution_count": 2,
   "id": "05436a98",
   "metadata": {},
   "outputs": [
    {
     "data": {
      "text/plain": [
       "7"
      ]
     },
     "execution_count": 2,
     "metadata": {},
     "output_type": "execute_result"
    }
   ],
   "source": [
    "z.count('can')             # here it will count that how mant times that can has reperted"
   ]
  },
  {
   "cell_type": "code",
   "execution_count": 5,
   "id": "2888eebe",
   "metadata": {},
   "outputs": [
    {
     "data": {
      "text/plain": [
       "1"
      ]
     },
     "execution_count": 5,
     "metadata": {},
     "output_type": "execute_result"
    }
   ],
   "source": [
    "z.count('you')"
   ]
  },
  {
   "cell_type": "markdown",
   "id": "9f5e2a9e",
   "metadata": {},
   "source": [
    "###  5.)encode():\n",
    "\n",
    "#### Encodes the string using the specified encoding.\n",
    "\n",
    "  "
   ]
  },
  {
   "cell_type": "markdown",
   "id": "692c020b",
   "metadata": {},
   "source": [
    "### This method takes an encoding as an argument, and the string is converted into a sequence of bytes using that encoding."
   ]
  },
  {
   "cell_type": "markdown",
   "id": "aa105e8a",
   "metadata": {},
   "source": [
    "### Parameter Values--\n",
    "\n",
    "#### encoding Optional. A String specifying the encoding to use. Default is UTF-8\n",
    "#### errors Optional. A String specifying the error method. Legal values are:\n",
    "#### 'backslashreplace'--->uses a backslash instead of the character that could not be encoded\n",
    "#### 'ignore' ----> ignores the characters that cannot be encoded\n",
    "#### 'namereplace' ----> replaces the character with a text explaining the character\n",
    "#### 'strict' ----> Default, raises an error on failure\n",
    "#### 'replace' ----> replaces the character with a questionmark\n",
    "#### 'xmlcharrefreplace'-> replaces the character with an xml character"
   ]
  },
  {
   "cell_type": "markdown",
   "id": "c1dd76a7",
   "metadata": {},
   "source": [
    "#### example"
   ]
  },
  {
   "cell_type": "code",
   "execution_count": 6,
   "id": "771f3740",
   "metadata": {},
   "outputs": [
    {
     "data": {
      "text/plain": [
       "'vikram is a good boy'"
      ]
     },
     "execution_count": 6,
     "metadata": {},
     "output_type": "execute_result"
    }
   ],
   "source": [
    "a='vikram is a good boy'\n",
    "a"
   ]
  },
  {
   "cell_type": "code",
   "execution_count": 11,
   "id": "d714aaea",
   "metadata": {},
   "outputs": [
    {
     "data": {
      "text/plain": [
       "b'vikram is a good boy'"
      ]
     },
     "execution_count": 11,
     "metadata": {},
     "output_type": "execute_result"
    }
   ],
   "source": [
    "a.encode()"
   ]
  },
  {
   "cell_type": "markdown",
   "id": "f885315d",
   "metadata": {},
   "source": [
    "### 6.) endswith() \n",
    "\n",
    "\n",
    "#### Checks if the string ends with a specified suffix.\n",
    "\n"
   ]
  },
  {
   "cell_type": "markdown",
   "id": "b0df391e",
   "metadata": {},
   "source": [
    "### > this returns true if the string ends with specied value"
   ]
  },
  {
   "cell_type": "markdown",
   "id": "d80b081e",
   "metadata": {},
   "source": [
    "### >  it returns 'True' if the string ends with the specified suffix and 'False' otherwise."
   ]
  },
  {
   "cell_type": "markdown",
   "id": "1159536b",
   "metadata": {},
   "source": [
    "### Parameter Values\n",
    "\n",
    "#### value Required. The value to check if the string ends with\n",
    "#### start Optional. An Integer specifying at which position to start the search\n",
    "#### end Optional. An Integer specifying at which position to end the search"
   ]
  },
  {
   "cell_type": "markdown",
   "id": "4324f0b2",
   "metadata": {},
   "source": [
    "#### example --"
   ]
  },
  {
   "cell_type": "code",
   "execution_count": 14,
   "id": "37440e0d",
   "metadata": {},
   "outputs": [
    {
     "data": {
      "text/plain": [
       "'vikram is a good boy'"
      ]
     },
     "execution_count": 14,
     "metadata": {},
     "output_type": "execute_result"
    }
   ],
   "source": [
    "a='vikram is a good boy'\n",
    "a"
   ]
  },
  {
   "cell_type": "code",
   "execution_count": 15,
   "id": "32d1bf75",
   "metadata": {},
   "outputs": [
    {
     "data": {
      "text/plain": [
       "False"
      ]
     },
     "execution_count": 15,
     "metadata": {},
     "output_type": "execute_result"
    }
   ],
   "source": [
    "a.endswith('hero')             # it is false because it endswith boy"
   ]
  },
  {
   "cell_type": "code",
   "execution_count": 16,
   "id": "1962083f",
   "metadata": {},
   "outputs": [
    {
     "data": {
      "text/plain": [
       "True"
      ]
     },
     "execution_count": 16,
     "metadata": {},
     "output_type": "execute_result"
    }
   ],
   "source": [
    "a.endswith('boy')               # it was true because it endswith boy"
   ]
  },
  {
   "cell_type": "markdown",
   "id": "96c70550",
   "metadata": {},
   "source": [
    "### 7.) expandtabs()"
   ]
  },
  {
   "cell_type": "markdown",
   "id": "6700fddc",
   "metadata": {},
   "source": [
    "###  > Replaces tab characters with spaces."
   ]
  },
  {
   "cell_type": "markdown",
   "id": "41825eb8",
   "metadata": {},
   "source": [
    " ###  > used to replace tab characters ('\\t') in a string with a specified number of spaces. "
   ]
  },
  {
   "cell_type": "markdown",
   "id": "a1c1fe48",
   "metadata": {},
   "source": [
    "#### Parameters\n",
    "\n",
    "tabsize : Specifies the space that is to be replaced with the “\\t” symbol in the string. By default the space is 8."
   ]
  },
  {
   "cell_type": "markdown",
   "id": "a509a470",
   "metadata": {},
   "source": [
    "#### example"
   ]
  },
  {
   "cell_type": "code",
   "execution_count": 17,
   "id": "7629d952",
   "metadata": {},
   "outputs": [
    {
     "data": {
      "text/plain": [
       "'vikram is a good boy in class room'"
      ]
     },
     "execution_count": 17,
     "metadata": {},
     "output_type": "execute_result"
    }
   ],
   "source": [
    "a='vikram is a good boy in class room'\n",
    "a"
   ]
  },
  {
   "cell_type": "code",
   "execution_count": 29,
   "id": "5f45a231",
   "metadata": {},
   "outputs": [
    {
     "data": {
      "text/plain": [
       "'vikram is a good boy in class room'"
      ]
     },
     "execution_count": 29,
     "metadata": {},
     "output_type": "execute_result"
    }
   ],
   "source": [
    "a = 'vikram is a good boy in class room'             \n",
    "a.expandtabs(10)                                  \n"
   ]
  },
  {
   "cell_type": "markdown",
   "id": "35e28a4c",
   "metadata": {},
   "source": [
    "###  8.) find()"
   ]
  },
  {
   "cell_type": "markdown",
   "id": "9f2b9115",
   "metadata": {},
   "source": [
    " ### Returns the lowest index of the substring, or -1 if not found."
   ]
  },
  {
   "cell_type": "markdown",
   "id": "054fb623",
   "metadata": {},
   "source": [
    "### it was very useful to find the words"
   ]
  },
  {
   "cell_type": "markdown",
   "id": "e22e6e8d",
   "metadata": {},
   "source": [
    "  ### find() method is almost the same as the index() method, the only difference is that the index() method raises an exception if the value is not found. (See example below)\n",
    "\n",
    "\n",
    "### Syntax string.find(value, start, end)"
   ]
  },
  {
   "cell_type": "markdown",
   "id": "e88130dc",
   "metadata": {},
   "source": [
    "### Parameters:\n",
    "\n",
    "\n",
    "#### sub: Substring that needs to be searched in the given string.\n",
    "#### start (optional): Starting position where the substring needs to be checked within the string.\n",
    "#### end (optional): End position is the index of the last value for the specified range. It is excluded while checking."
   ]
  },
  {
   "cell_type": "markdown",
   "id": "599891fb",
   "metadata": {},
   "source": [
    "#### example"
   ]
  },
  {
   "cell_type": "code",
   "execution_count": 1,
   "id": "9b6e3ff2",
   "metadata": {},
   "outputs": [
    {
     "data": {
      "text/plain": [
       "'vikram is a good boy in classroom'"
      ]
     },
     "execution_count": 1,
     "metadata": {},
     "output_type": "execute_result"
    }
   ],
   "source": [
    "a='vikram is a good boy in classroom'\n",
    "a"
   ]
  },
  {
   "cell_type": "code",
   "execution_count": 2,
   "id": "cf91b566",
   "metadata": {},
   "outputs": [
    {
     "data": {
      "text/plain": [
       "12"
      ]
     },
     "execution_count": 2,
     "metadata": {},
     "output_type": "execute_result"
    }
   ],
   "source": [
    "a.find('good')"
   ]
  },
  {
   "cell_type": "code",
   "execution_count": 3,
   "id": "6ff6efd4",
   "metadata": {},
   "outputs": [
    {
     "data": {
      "text/plain": [
       "24"
      ]
     },
     "execution_count": 3,
     "metadata": {},
     "output_type": "execute_result"
    }
   ],
   "source": [
    "a.find('classroom')"
   ]
  },
  {
   "cell_type": "markdown",
   "id": "d4183a85",
   "metadata": {},
   "source": [
    "### 9.) format()"
   ]
  },
  {
   "cell_type": "markdown",
   "id": "957265c9",
   "metadata": {},
   "source": [
    "###  Formats the string with specified values."
   ]
  },
  {
   "cell_type": "markdown",
   "id": "2ba929c0",
   "metadata": {},
   "source": [
    " ### It allows you to create strings that contain placeholders and then replace those placeholders with values. "
   ]
  },
  {
   "cell_type": "markdown",
   "id": "b4714618",
   "metadata": {},
   "source": [
    "### Parameters:\n",
    "\n",
    "#### value : Can be an integer, floating point numeric constant, string, characters or even variables."
   ]
  },
  {
   "cell_type": "markdown",
   "id": "b264eb38",
   "metadata": {},
   "source": [
    "#### example --"
   ]
  },
  {
   "cell_type": "code",
   "execution_count": 20,
   "id": "88145566",
   "metadata": {},
   "outputs": [
    {
     "name": "stdout",
     "output_type": "stream",
     "text": [
      "My name is vikram and I am 21 years old.\n"
     ]
    }
   ],
   "source": [
    "name = ('vikram')\n",
    "age = ('21')\n",
    "formatted_string = \"My name is {} and I am {} years old.\".format(name, age)\n",
    "\n",
    "print(formatted_string)"
   ]
  },
  {
   "cell_type": "markdown",
   "id": "92d67463",
   "metadata": {},
   "source": [
    "### 11.) index()"
   ]
  },
  {
   "cell_type": "markdown",
   "id": "24ffa6b7",
   "metadata": {},
   "source": [
    "### > index ()method is a string used to find the index (position) of a substring with in a string"
   ]
  },
  {
   "cell_type": "markdown",
   "id": "4e7ca75d",
   "metadata": {},
   "source": [
    "### > if the substring is not found within the string. it raises a value error exception"
   ]
  },
  {
   "cell_type": "markdown",
   "id": "30f36a81",
   "metadata": {},
   "source": [
    "### Parameters:\n",
    "#### Here z is a variable in which the input dictionary is stored and string is the key of the input dictionary.\n",
    "#### input_dict: Takes a single parameter which is the input dictionary."
   ]
  },
  {
   "cell_type": "markdown",
   "id": "b7a4d7cc",
   "metadata": {},
   "source": [
    "#### example --\n"
   ]
  },
  {
   "cell_type": "code",
   "execution_count": 25,
   "id": "f55becc8",
   "metadata": {},
   "outputs": [
    {
     "data": {
      "text/plain": [
       "'vikram is good boy in classroom'"
      ]
     },
     "execution_count": 25,
     "metadata": {},
     "output_type": "execute_result"
    }
   ],
   "source": [
    "a = 'vikram is good boy in classroom'\n",
    "a"
   ]
  },
  {
   "cell_type": "code",
   "execution_count": 27,
   "id": "ec3ee6e5",
   "metadata": {},
   "outputs": [
    {
     "data": {
      "text/plain": [
       "15"
      ]
     },
     "execution_count": 27,
     "metadata": {},
     "output_type": "execute_result"
    }
   ],
   "source": [
    "a.index('boy')"
   ]
  },
  {
   "cell_type": "code",
   "execution_count": 32,
   "id": "f846d7bd",
   "metadata": {},
   "outputs": [
    {
     "data": {
      "text/plain": [
       "10"
      ]
     },
     "execution_count": 32,
     "metadata": {},
     "output_type": "execute_result"
    }
   ],
   "source": [
    "a.index('good')"
   ]
  },
  {
   "cell_type": "markdown",
   "id": "ec532f24",
   "metadata": {},
   "source": [
    "### 12.) isalnum()"
   ]
  },
  {
   "cell_type": "markdown",
   "id": "9216dbbf",
   "metadata": {},
   "source": [
    "### isalnum means it is - 'alpha' ,'numeric'"
   ]
  },
  {
   "cell_type": "markdown",
   "id": "72554c68",
   "metadata": {},
   "source": [
    "### This method is used to check whether all the characters in a given string are alphanumeric, meaning they are either letters (alphabets) or digits (numbers).\n"
   ]
  },
  {
   "cell_type": "markdown",
   "id": "0df5c958",
   "metadata": {},
   "source": [
    "### It returns 'True' if all the characters in the string are alphanumeric and 'False' otherwise."
   ]
  },
  {
   "cell_type": "markdown",
   "id": "9837ebaf",
   "metadata": {},
   "source": [
    "### Parameter:\n",
    "\n",
    "#### isalnum() method takes no parameters"
   ]
  },
  {
   "cell_type": "markdown",
   "id": "d0190b53",
   "metadata": {},
   "source": [
    "#### example --"
   ]
  },
  {
   "cell_type": "code",
   "execution_count": 35,
   "id": "0b90e01d",
   "metadata": {},
   "outputs": [
    {
     "data": {
      "text/plain": [
       "True"
      ]
     },
     "execution_count": 35,
     "metadata": {},
     "output_type": "execute_result"
    }
   ],
   "source": [
    "text = \"Hello123\"\n",
    "result = text.isalnum()\n",
    "result\n"
   ]
  },
  {
   "cell_type": "code",
   "execution_count": 41,
   "id": "d1c02650",
   "metadata": {},
   "outputs": [
    {
     "name": "stdout",
     "output_type": "stream",
     "text": [
      "The string contains only alphanumeric characters.\n"
     ]
    }
   ],
   "source": [
    "text = \"vikram\"\n",
    "\n",
    "if result:\n",
    "    print(\"The string contains only alphanumeric characters.\")\n",
    "else:\n",
    "    print(\"The string contains non-alphanumeric characters.\")"
   ]
  },
  {
   "cell_type": "markdown",
   "id": "75eec638",
   "metadata": {},
   "source": [
    "### 13.) isalpha()"
   ]
  },
  {
   "cell_type": "markdown",
   "id": "b1c70f31",
   "metadata": {},
   "source": [
    "###  it will Checks if all characters are alphabetic."
   ]
  },
  {
   "cell_type": "markdown",
   "id": "3967e213",
   "metadata": {},
   "source": [
    "### Parameters:\n",
    "\n",
    "#### isalpha() does not take any parameters"
   ]
  },
  {
   "cell_type": "markdown",
   "id": "ffdca217",
   "metadata": {},
   "source": [
    "###  > Errors and Exceptions:\n",
    "\n",
    "#### * It contains no arguments, therefore an error occurs if a parameter is passed\n",
    "####  * Both uppercase and lowercase alphabets return “True”\n",
    "#### * Spac e is not considered to be the alphabet, therefore it returns “False”"
   ]
  },
  {
   "cell_type": "markdown",
   "id": "2950c662",
   "metadata": {},
   "source": [
    "### In this example,\n",
    "### the isalpha() method checks if all characters in the text string are alphabetic, which is true in this case.\n",
    "## Therefore, the output will be:"
   ]
  },
  {
   "cell_type": "markdown",
   "id": "3603c862",
   "metadata": {},
   "source": [
    "#### example --"
   ]
  },
  {
   "cell_type": "code",
   "execution_count": 43,
   "id": "abdbb4fd",
   "metadata": {},
   "outputs": [
    {
     "name": "stdout",
     "output_type": "stream",
     "text": [
      "The string contains only alphabetic characters.\n"
     ]
    }
   ],
   "source": [
    "text = \"Hello\"\n",
    "result = text.isalpha()\n",
    "\n",
    "if result:\n",
    "    print(\"The string contains only alphabetic characters.\")"
   ]
  },
  {
   "cell_type": "code",
   "execution_count": 53,
   "id": "4712b040",
   "metadata": {},
   "outputs": [
    {
     "data": {
      "text/plain": [
       "False"
      ]
     },
     "execution_count": 53,
     "metadata": {},
     "output_type": "execute_result"
    }
   ],
   "source": [
    "text = \"Hello123\"\n",
    "result = text.isalpha()\n",
    "result\n",
    "\n",
    " "
   ]
  },
  {
   "cell_type": "code",
   "execution_count": 54,
   "id": "478a0d65",
   "metadata": {},
   "outputs": [
    {
     "data": {
      "text/plain": [
       "True"
      ]
     },
     "execution_count": 54,
     "metadata": {},
     "output_type": "execute_result"
    }
   ],
   "source": [
    "text = \"Hello\"\n",
    "result = text.isalpha()\n",
    "result"
   ]
  },
  {
   "cell_type": "markdown",
   "id": "258915eb",
   "metadata": {},
   "source": [
    "### 14.) isascii()"
   ]
  },
  {
   "cell_type": "markdown",
   "id": "df8d4ec8",
   "metadata": {},
   "source": [
    "### The isascii() method It is used to check whether all the characters in a given string are part of the ASCII character set.\n",
    "\n",
    "## It returns True\n",
    "\n",
    "\n",
    "### if all characters in the string are ASCII characters and False\n"
   ]
  },
  {
   "cell_type": "markdown",
   "id": "8cde71bf",
   "metadata": {},
   "source": [
    " ### >  Parameters:\n",
    "    \n",
    "#### * The Python string isascii method doesn’t accept any parameters."
   ]
  },
  {
   "cell_type": "markdown",
   "id": "a15876c7",
   "metadata": {},
   "source": [
    "### * Syntax:str.isascii()"
   ]
  },
  {
   "cell_type": "markdown",
   "id": "c12e31c3",
   "metadata": {},
   "source": [
    "####  example --"
   ]
  },
  {
   "cell_type": "code",
   "execution_count": 55,
   "id": "9fddabbe",
   "metadata": {},
   "outputs": [
    {
     "name": "stdout",
     "output_type": "stream",
     "text": [
      "The string contains only ASCII characters.\n"
     ]
    }
   ],
   "source": [
    "text = \"Hello, world!\"\n",
    "result = text.isascii()\n",
    "\n",
    "if result:\n",
    "    print(\"The string contains only ASCII characters.\")"
   ]
  },
  {
   "cell_type": "code",
   "execution_count": 57,
   "id": "95477239",
   "metadata": {},
   "outputs": [
    {
     "data": {
      "text/plain": [
       "True"
      ]
     },
     "execution_count": 57,
     "metadata": {},
     "output_type": "execute_result"
    }
   ],
   "source": [
    "text = \"Hello, world!\"\n",
    "result = text.isascii()\n",
    "result"
   ]
  },
  {
   "cell_type": "code",
   "execution_count": 58,
   "id": "1efa4de7",
   "metadata": {},
   "outputs": [
    {
     "data": {
      "text/plain": [
       "False"
      ]
     },
     "execution_count": 58,
     "metadata": {},
     "output_type": "execute_result"
    }
   ],
   "source": [
    "text = \"Héllo, world!\"\n",
    "result = text.isascii()\n",
    "result"
   ]
  },
  {
   "cell_type": "markdown",
   "id": "6fa93303",
   "metadata": {},
   "source": [
    "### 15.) isdecimal()"
   ]
  },
  {
   "cell_type": "markdown",
   "id": "bbfb4db2",
   "metadata": {},
   "source": [
    "###  >   method in Python is used to check whether all the characters in a given string are decimal digits,\n",
    "###               which means they must be in the range 0 to 9.\n",
    "    \n",
    "    \n",
    "   ###  >   It returns True if all characters in the string are decimal digits, \n",
    "    \n",
    "   ###            and False if the string contains any characters that are not decimal digits."
   ]
  },
  {
   "cell_type": "markdown",
   "id": "1047df33",
   "metadata": {},
   "source": [
    "### > Parameters:\n",
    "\n",
    "#### * This method does not takes any parameters ."
   ]
  },
  {
   "cell_type": "markdown",
   "id": "7d88a41a",
   "metadata": {},
   "source": [
    "#### example --"
   ]
  },
  {
   "cell_type": "code",
   "execution_count": 59,
   "id": "b3d4d4aa",
   "metadata": {},
   "outputs": [
    {
     "data": {
      "text/plain": [
       "True"
      ]
     },
     "execution_count": 59,
     "metadata": {},
     "output_type": "execute_result"
    }
   ],
   "source": [
    "number = \"12345\"\n",
    "result = number.isdecimal()\n",
    "result"
   ]
  },
  {
   "cell_type": "code",
   "execution_count": 61,
   "id": "9be10414",
   "metadata": {},
   "outputs": [
    {
     "data": {
      "text/plain": [
       "False"
      ]
     },
     "execution_count": 61,
     "metadata": {},
     "output_type": "execute_result"
    }
   ],
   "source": [
    "text = \"12345X\"\n",
    "result = text.isdecimal()\n",
    "result"
   ]
  },
  {
   "cell_type": "code",
   "execution_count": 60,
   "id": "d3f5f211",
   "metadata": {},
   "outputs": [
    {
     "name": "stdout",
     "output_type": "stream",
     "text": [
      "The string contains only decimal digits.\n"
     ]
    }
   ],
   "source": [
    "number = \"12345\"\n",
    "result = number.isdecimal()\n",
    "\n",
    "if result:\n",
    "    print(\"The string contains only decimal digits.\")"
   ]
  },
  {
   "cell_type": "markdown",
   "id": "ea1002ef",
   "metadata": {},
   "source": [
    "### 16.)  isdigit()"
   ]
  },
  {
   "cell_type": "markdown",
   "id": "610f2ca2",
   "metadata": {},
   "source": [
    "### isdigit(): Checks if all characters are digitsor not"
   ]
  },
  {
   "cell_type": "markdown",
   "id": "03e5d66b",
   "metadata": {},
   "source": [
    " ### >  method in Python is used to check whether all the characters in a given string are numeric digits. It returns"
   ]
  },
  {
   "cell_type": "markdown",
   "id": "3e56d46b",
   "metadata": {},
   "source": [
    "  ### > It returns True if all characters in the string are numeric digits (0-9),\n",
    "   ### and False if the string contains any characters that are not numeric digits."
   ]
  },
  {
   "cell_type": "markdown",
   "id": "e9511e9c",
   "metadata": {},
   "source": [
    "### >  Parameters:\n",
    "#### * This method does not takes any parameters ."
   ]
  },
  {
   "cell_type": "code",
   "execution_count": 62,
   "id": "4e1b127d",
   "metadata": {},
   "outputs": [
    {
     "name": "stdout",
     "output_type": "stream",
     "text": [
      "The string contains only numeric digits.\n"
     ]
    }
   ],
   "source": [
    "number = \"12345\"\n",
    "result = number.isdigit()\n",
    "\n",
    "if result:\n",
    "    print(\"The string contains only numeric digits.\")"
   ]
  },
  {
   "cell_type": "code",
   "execution_count": 63,
   "id": "cfd4b3ba",
   "metadata": {},
   "outputs": [
    {
     "data": {
      "text/plain": [
       "False"
      ]
     },
     "execution_count": 63,
     "metadata": {},
     "output_type": "execute_result"
    }
   ],
   "source": [
    "number = \"vikram\"\n",
    "result = number.isdigit()\n",
    "result\n",
    "\n"
   ]
  },
  {
   "cell_type": "code",
   "execution_count": 64,
   "id": "7993809f",
   "metadata": {},
   "outputs": [
    {
     "data": {
      "text/plain": [
       "True"
      ]
     },
     "execution_count": 64,
     "metadata": {},
     "output_type": "execute_result"
    }
   ],
   "source": [
    "number = \"12345\"\n",
    "result = number.isdigit()\n",
    "result"
   ]
  },
  {
   "cell_type": "markdown",
   "id": "578149a9",
   "metadata": {},
   "source": [
    "### 17.) is identifire()"
   ]
  },
  {
   "cell_type": "markdown",
   "id": "cfb5df85",
   "metadata": {},
   "source": [
    "### Checks if the string is a valid Python identifier."
   ]
  },
  {
   "cell_type": "markdown",
   "id": "83461eb5",
   "metadata": {},
   "source": [
    "### In Python, an identifier is a name used to identify variables, functions, modules, or other objects.\n",
    "### Python identifiers have certain rules and conventions, such as:"
   ]
  },
  {
   "cell_type": "markdown",
   "id": "9563dc60",
   "metadata": {},
   "source": [
    "#### --They must start with a letter (a-z, A-Z) or an underscore (_).\n",
    "#### --The remaining characters can be letters, numbers (0-9), or underscores.\n",
    "#### --They cannot be a Python keyword (e.g., 'if', 'for', 'while', 'print', etc.).####"
   ]
  },
  {
   "cell_type": "markdown",
   "id": "05daee62",
   "metadata": {},
   "source": [
    "###  >  Parameters:\n",
    "#### *  This method does not takes any parameters ."
   ]
  },
  {
   "cell_type": "markdown",
   "id": "c96b4c7a",
   "metadata": {},
   "source": [
    "###  >  Syntax: string.isidentifier()"
   ]
  },
  {
   "cell_type": "markdown",
   "id": "470ef4f1",
   "metadata": {},
   "source": [
    "### example --"
   ]
  },
  {
   "cell_type": "code",
   "execution_count": 65,
   "id": "67a2c86c",
   "metadata": {},
   "outputs": [
    {
     "name": "stdout",
     "output_type": "stream",
     "text": [
      "The string is a valid Python identifier.\n"
     ]
    }
   ],
   "source": [
    "identifier = \"my_variable\"\n",
    "result = identifier.isidentifier()\n",
    "\n",
    "if result:\n",
    "    print(\"The string is a valid Python identifier.\")"
   ]
  },
  {
   "cell_type": "code",
   "execution_count": 68,
   "id": "7f17a39e",
   "metadata": {},
   "outputs": [
    {
     "data": {
      "text/plain": [
       "False"
      ]
     },
     "execution_count": 68,
     "metadata": {},
     "output_type": "execute_result"
    }
   ],
   "source": [
    "text = \"3variable\"\n",
    "result = text.isidentifier()\n",
    "result"
   ]
  },
  {
   "cell_type": "code",
   "execution_count": 66,
   "id": "c80e1a65",
   "metadata": {},
   "outputs": [
    {
     "data": {
      "text/plain": [
       "True"
      ]
     },
     "execution_count": 66,
     "metadata": {},
     "output_type": "execute_result"
    }
   ],
   "source": [
    "identifier = \"my_variable\"\n",
    "result = identifier.isidentifier()\n",
    "result\n",
    "\n"
   ]
  },
  {
   "cell_type": "markdown",
   "id": "c0665970",
   "metadata": {},
   "source": [
    "### 18.)  islower()"
   ]
  },
  {
   "cell_type": "markdown",
   "id": "8da8ef56",
   "metadata": {},
   "source": [
    " ### method in Python is used to check whether all the characters in a given string are lowercase alphabetic characters. "
   ]
  },
  {
   "cell_type": "markdown",
   "id": "19c3f831",
   "metadata": {},
   "source": [
    "### It returns True if all characters in the string are lowercase letters (a-z),\n",
    "\n",
    "   ### and False if the string contains any characters that are not lowercase letters."
   ]
  },
  {
   "cell_type": "markdown",
   "id": "bb6710b5",
   "metadata": {},
   "source": [
    "###  >  Syntax: string.islower()"
   ]
  },
  {
   "cell_type": "markdown",
   "id": "a1e073b9",
   "metadata": {},
   "source": [
    "### example --"
   ]
  },
  {
   "cell_type": "code",
   "execution_count": 73,
   "id": "95eab7a3",
   "metadata": {},
   "outputs": [
    {
     "name": "stdout",
     "output_type": "stream",
     "text": [
      "The string contains only lowercase characters.\n"
     ]
    }
   ],
   "source": [
    "text = \"vikram\"\n",
    "result = text.islower()\n",
    "\n",
    "if result:\n",
    "    print(\"The string contains only lowercase characters.\")"
   ]
  },
  {
   "cell_type": "code",
   "execution_count": 71,
   "id": "455b852c",
   "metadata": {},
   "outputs": [
    {
     "data": {
      "text/plain": [
       "False"
      ]
     },
     "execution_count": 71,
     "metadata": {},
     "output_type": "execute_result"
    }
   ],
   "source": [
    "text = \"VIKRAM\"\n",
    "result = text.islower()\n",
    "result\n",
    "\n"
   ]
  },
  {
   "cell_type": "code",
   "execution_count": 72,
   "id": "b48f4f2f",
   "metadata": {},
   "outputs": [
    {
     "data": {
      "text/plain": [
       "True"
      ]
     },
     "execution_count": 72,
     "metadata": {},
     "output_type": "execute_result"
    }
   ],
   "source": [
    "text = \"vikram\"\n",
    "result = text.islower()\n",
    "result"
   ]
  },
  {
   "cell_type": "markdown",
   "id": "0e06308d",
   "metadata": {},
   "source": [
    "### 19.) isnumeric()"
   ]
  },
  {
   "cell_type": "markdown",
   "id": "0377106d",
   "metadata": {},
   "source": [
    " ### > is used to check whether all the characters in a given string are numeric characters."
   ]
  },
  {
   "cell_type": "markdown",
   "id": "a1f60438",
   "metadata": {},
   "source": [
    " ###  >  It returns True if all characters in the string are numeric digits (0-9) \n",
    " \n",
    "   ###  > other numeric characters such as fractions, subscripts, superscripts, and so on,\n",
    "   ### and False if the string contains any characters that are not numeric."
   ]
  },
  {
   "cell_type": "markdown",
   "id": "aa1abde6",
   "metadata": {},
   "source": [
    "###  >  Parameter\n",
    "\n",
    "#### * isnumeric() does not take any parameters"
   ]
  },
  {
   "cell_type": "markdown",
   "id": "b3cd2a82",
   "metadata": {},
   "source": [
    "### Syntax: string.isnumeric()"
   ]
  },
  {
   "cell_type": "code",
   "execution_count": 74,
   "id": "acd9baa8",
   "metadata": {},
   "outputs": [
    {
     "name": "stdout",
     "output_type": "stream",
     "text": [
      "The string contains only numeric characters.\n"
     ]
    }
   ],
   "source": [
    "number = \"12345\"\n",
    "result = number.isnumeric()\n",
    "\n",
    "if result:\n",
    "    print(\"The string contains only numeric characters.\")"
   ]
  },
  {
   "cell_type": "code",
   "execution_count": 75,
   "id": "0c36cdb8",
   "metadata": {},
   "outputs": [
    {
     "data": {
      "text/plain": [
       "False"
      ]
     },
     "execution_count": 75,
     "metadata": {},
     "output_type": "execute_result"
    }
   ],
   "source": [
    "number = \"vikram\"\n",
    "result = number.isnumeric()\n",
    "result"
   ]
  },
  {
   "cell_type": "code",
   "execution_count": 76,
   "id": "5f5067c1",
   "metadata": {},
   "outputs": [
    {
     "data": {
      "text/plain": [
       "True"
      ]
     },
     "execution_count": 76,
     "metadata": {},
     "output_type": "execute_result"
    }
   ],
   "source": [
    "number = \"12345\"\n",
    "result = number.isnumeric()\n",
    "result"
   ]
  },
  {
   "cell_type": "markdown",
   "id": "8acecee3",
   "metadata": {},
   "source": [
    "###  20.) isprintable()"
   ]
  },
  {
   "cell_type": "markdown",
   "id": "b3fed48a",
   "metadata": {},
   "source": [
    "### > is used to check whether all the characters in a given string are printable. "
   ]
  },
  {
   "cell_type": "markdown",
   "id": "212d6338",
   "metadata": {},
   "source": [
    "###  >  Printable characters are those that can be displayed\n",
    "### or printed, including letters, digits, punctuation, and whitespace, among others.\n",
    "\n",
    "###  >  Non-printable characters are typically control characters, such as tabs, line breaks, or non-displayable characters."
   ]
  },
  {
   "cell_type": "markdown",
   "id": "f7778342",
   "metadata": {},
   "source": [
    "###  >  It returns True if all characters in the string are considered printable\n",
    " ### and False if the string contains any non-printable characters."
   ]
  },
  {
   "cell_type": "markdown",
   "id": "5f9a6bc1",
   "metadata": {},
   "source": [
    "###  >  Parameters:\n",
    "\n",
    "#### * isprintable() does not take any parameters\n",
    "\n",
    "\n",
    "###  >  Returns:\n",
    "\n",
    "####  *  True – If all characters in the string are printable or the string is empty.\n",
    "####  *  False – If the string contains 1 or more nonprintable characters.\n",
    "\n",
    "\n",
    "###  >  Errors Or Exceptions:\n",
    "\n",
    "####  *  The function does not take any arguments, therefore no parameters should be passed, otherwise, it returns an error.\n",
    "####  *  The only whitespace character which is printable is space or ” “, otherwise every whitespace character is non-printable and the function returns “False”.\n",
    "####  * The empty string is considered printable and it returns “True”."
   ]
  },
  {
   "cell_type": "markdown",
   "id": "21d6e409",
   "metadata": {},
   "source": [
    "###  >   Syntax: string.isprintable()"
   ]
  },
  {
   "cell_type": "code",
   "execution_count": 77,
   "id": "aef84f08",
   "metadata": {},
   "outputs": [
    {
     "name": "stdout",
     "output_type": "stream",
     "text": [
      "The string contains only printable characters.\n"
     ]
    }
   ],
   "source": [
    "text = \"Hello, world!\"\n",
    "result = text.isprintable()\n",
    "\n",
    "if result:\n",
    "    print(\"The string contains only printable characters.\")"
   ]
  },
  {
   "cell_type": "code",
   "execution_count": 79,
   "id": "911e2ef9",
   "metadata": {},
   "outputs": [
    {
     "data": {
      "text/plain": [
       "True"
      ]
     },
     "execution_count": 79,
     "metadata": {},
     "output_type": "execute_result"
    }
   ],
   "source": [
    "text = \"Hello world!\"\n",
    "result = text.isprintable()\n",
    "result"
   ]
  },
  {
   "cell_type": "code",
   "execution_count": 80,
   "id": "efaacb73",
   "metadata": {},
   "outputs": [
    {
     "data": {
      "text/plain": [
       "False"
      ]
     },
     "execution_count": 80,
     "metadata": {},
     "output_type": "execute_result"
    }
   ],
   "source": [
    "text = \"Hello\\n world!\"\n",
    "result = text.isprintable()\n",
    "result"
   ]
  },
  {
   "cell_type": "markdown",
   "id": "289db1f7",
   "metadata": {},
   "source": [
    "###  21.)  isspace()"
   ]
  },
  {
   "cell_type": "markdown",
   "id": "9cac08f7",
   "metadata": {},
   "source": [
    "###   >  in this method is used to check if all characters in a string are whitespace characters."
   ]
  },
  {
   "cell_type": "markdown",
   "id": "ba82578f",
   "metadata": {},
   "source": [
    " ###  >  It returns True if the string contains only whitespace characters and False otherwise."
   ]
  },
  {
   "cell_type": "markdown",
   "id": "a0900d4b",
   "metadata": {},
   "source": [
    "###  >   contains all whitespace characters, such as:\n",
    "\n",
    "#### * ‘ ‘ – Space\n",
    "#### * ‘\\t’ – Horizontal tab\n",
    "#### * ‘\\n’ – Newline\n",
    "#### * ‘\\v’ – Vertical tab\n",
    "#### * ‘\\f’ – Feed\n",
    "#### * ‘\\r’ – Carriage return\n",
    "\n",
    "\n",
    "### Syntax: string.isspace()"
   ]
  },
  {
   "cell_type": "markdown",
   "id": "5326f983",
   "metadata": {},
   "source": [
    "###  >  Returns:\n",
    "\n",
    "####  * True – If all characters in the string are whitespace characters.\n",
    "####  * False – If the string contains 1 or more non-whitespace characters."
   ]
  },
  {
   "cell_type": "markdown",
   "id": "c7e808e5",
   "metadata": {},
   "source": [
    "#### example --"
   ]
  },
  {
   "cell_type": "code",
   "execution_count": 81,
   "id": "6044911c",
   "metadata": {},
   "outputs": [
    {
     "name": "stdout",
     "output_type": "stream",
     "text": [
      "The string contains only whitespace characters.\n"
     ]
    }
   ],
   "source": [
    "text = \"   \\t\\n\"\n",
    "result = text.isspace()\n",
    "\n",
    "if result:\n",
    "    print(\"The string contains only whitespace characters.\")"
   ]
  },
  {
   "cell_type": "code",
   "execution_count": 82,
   "id": "f93b3208",
   "metadata": {},
   "outputs": [
    {
     "data": {
      "text/plain": [
       "False"
      ]
     },
     "execution_count": 82,
     "metadata": {},
     "output_type": "execute_result"
    }
   ],
   "source": [
    "text = \"vikram is a good boy\"\n",
    "result = text.isspace()\n",
    "result\n"
   ]
  },
  {
   "cell_type": "code",
   "execution_count": 90,
   "id": "9f035b74",
   "metadata": {},
   "outputs": [
    {
     "data": {
      "text/plain": [
       "True"
      ]
     },
     "execution_count": 90,
     "metadata": {},
     "output_type": "execute_result"
    }
   ],
   "source": [
    "text = \"   \\t\\n\"\n",
    "result = text.isspace()\n",
    "result"
   ]
  },
  {
   "cell_type": "markdown",
   "id": "9538b0f2",
   "metadata": {},
   "source": [
    "###  22.)  istitle()"
   ]
  },
  {
   "cell_type": "markdown",
   "id": "37edc290",
   "metadata": {},
   "source": [
    " ###  >  is used to check if a given string is in title case"
   ]
  },
  {
   "cell_type": "markdown",
   "id": "8652a499",
   "metadata": {},
   "source": [
    "###  >  Title case means that the string has words where the first character of each word is capitalized (in uppercase)\n",
    "###  > and all other characters are in lowercase."
   ]
  },
  {
   "cell_type": "markdown",
   "id": "554fbe81",
   "metadata": {},
   "source": [
    "\n",
    "###  >  Returns:\n",
    "\n",
    "####  *  True if the string is a title-cased string otherwise returns False."
   ]
  },
  {
   "cell_type": "markdown",
   "id": "7d3018be",
   "metadata": {},
   "source": [
    "###  >  Syntax: string.istitle()\n"
   ]
  },
  {
   "cell_type": "markdown",
   "id": "4e78ab16",
   "metadata": {},
   "source": [
    "#### example --"
   ]
  },
  {
   "cell_type": "code",
   "execution_count": 93,
   "id": "bdf0c517",
   "metadata": {},
   "outputs": [
    {
     "data": {
      "text/plain": [
       "False"
      ]
     },
     "execution_count": 93,
     "metadata": {},
     "output_type": "execute_result"
    }
   ],
   "source": [
    "text = \"Vikram IS Very Good Boy In Class\"\n",
    "result = text.istitle()\n",
    "result"
   ]
  },
  {
   "cell_type": "code",
   "execution_count": 97,
   "id": "1347cafd",
   "metadata": {},
   "outputs": [
    {
     "data": {
      "text/plain": [
       "False"
      ]
     },
     "execution_count": 97,
     "metadata": {},
     "output_type": "execute_result"
    }
   ],
   "source": [
    "text = \"Vikram IS Good Boy\"\n",
    "result = text.istitle()\n",
    "result"
   ]
  },
  {
   "cell_type": "code",
   "execution_count": 98,
   "id": "71e5e24c",
   "metadata": {},
   "outputs": [
    {
     "data": {
      "text/plain": [
       "True"
      ]
     },
     "execution_count": 98,
     "metadata": {},
     "output_type": "execute_result"
    }
   ],
   "source": [
    "text = \"This Is Title Case\"\n",
    "result = text.istitle()\n",
    "result"
   ]
  },
  {
   "cell_type": "code",
   "execution_count": 99,
   "id": "369b603e",
   "metadata": {},
   "outputs": [
    {
     "name": "stdout",
     "output_type": "stream",
     "text": [
      "The string is in title case.\n"
     ]
    }
   ],
   "source": [
    "text = \"This Is Title Case\"\n",
    "result = text.istitle()\n",
    "\n",
    "if result:\n",
    "    print(\"The string is in title case.\")"
   ]
  },
  {
   "cell_type": "markdown",
   "id": "414974f6",
   "metadata": {},
   "source": [
    "### 23.)  isupper()"
   ]
  },
  {
   "cell_type": "markdown",
   "id": "a66a7a98",
   "metadata": {},
   "source": [
    "  ###  >  used to check whether all the characters in a given string are in uppercase (capital letters)."
   ]
  },
  {
   "cell_type": "markdown",
   "id": "63955909",
   "metadata": {},
   "source": [
    "###  >   It returns 'True' if all characters in the string are in uppercase,\n",
    "### and 'False' if the string contains any characters that are not in uppercase"
   ]
  },
  {
   "cell_type": "markdown",
   "id": "1d38d854",
   "metadata": {},
   "source": [
    "\n",
    "###  >  Returns:\n",
    "\n",
    "####  *  True if all the letters in the string are in the upper case and False if even one of them is in the lower case."
   ]
  },
  {
   "cell_type": "markdown",
   "id": "40e83e64",
   "metadata": {},
   "source": [
    "###  >  Syntax: string.isupper()\n"
   ]
  },
  {
   "cell_type": "code",
   "execution_count": 100,
   "id": "9ad84381",
   "metadata": {},
   "outputs": [
    {
     "name": "stdout",
     "output_type": "stream",
     "text": [
      "The string contains only uppercase characters.\n"
     ]
    }
   ],
   "source": [
    "text = \"VIKRAM\"\n",
    "result = text.isupper()\n",
    "\n",
    "if result:\n",
    "    print(\"The string contains only uppercase characters.\")"
   ]
  },
  {
   "cell_type": "code",
   "execution_count": 101,
   "id": "dbb66ccb",
   "metadata": {},
   "outputs": [
    {
     "data": {
      "text/plain": [
       "False"
      ]
     },
     "execution_count": 101,
     "metadata": {},
     "output_type": "execute_result"
    }
   ],
   "source": [
    "text = \"vikram\"\n",
    "result = text.isupper()\n",
    "result"
   ]
  },
  {
   "cell_type": "code",
   "execution_count": 102,
   "id": "32386ee1",
   "metadata": {},
   "outputs": [
    {
     "data": {
      "text/plain": [
       "True"
      ]
     },
     "execution_count": 102,
     "metadata": {},
     "output_type": "execute_result"
    }
   ],
   "source": [
    "text = \"VIKRAM\"\n",
    "result = text.isupper()\n",
    "result"
   ]
  },
  {
   "cell_type": "markdown",
   "id": "dfac5c1f",
   "metadata": {},
   "source": [
    "###  24.)  join()"
   ]
  },
  {
   "cell_type": "markdown",
   "id": "94f23e88",
   "metadata": {},
   "source": [
    "  #### >  The join() method in Python is used to concatenate the elements of an iterable (such as a list, tuple, or string) into a single string."
   ]
  },
  {
   "cell_type": "markdown",
   "id": "637352f2",
   "metadata": {},
   "source": [
    " ### >  It uses the string on which it's called as a separator to join the elements."
   ]
  },
  {
   "cell_type": "markdown",
   "id": "59a4b05d",
   "metadata": {},
   "source": [
    "###  >  Parameters:\n",
    "\n",
    "####  *  Iterable – objects capable of returning their members one at a time. Some examples are List, Tuple, String, Dictionary, and Set\n",
    "\n",
    "###  >  Return Value:\n",
    "####  *  The join() method returns a string concatenated with the elements of iterable.\n",
    "\n",
    "###  >  Type Error:\n",
    "####  *  If the iterable contains any non-string values, it raises a TypeError exception. ###"
   ]
  },
  {
   "cell_type": "markdown",
   "id": "473325d1",
   "metadata": {},
   "source": [
    "###  >  Syntax: string_name.join(iterable)"
   ]
  },
  {
   "cell_type": "markdown",
   "id": "93adabb0",
   "metadata": {},
   "source": [
    "### example"
   ]
  },
  {
   "cell_type": "code",
   "execution_count": 113,
   "id": "d3b82788",
   "metadata": {},
   "outputs": [
    {
     "data": {
      "text/plain": [
       "'1525354'"
      ]
     },
     "execution_count": 113,
     "metadata": {},
     "output_type": "execute_result"
    }
   ],
   "source": [
    "y=['1','2','3','4']                 # 5 will will join after every numeric\n",
    "'5'.join(['1','2','3','4'])"
   ]
  },
  {
   "cell_type": "code",
   "execution_count": 114,
   "id": "f17f1c26",
   "metadata": {},
   "outputs": [
    {
     "data": {
      "text/plain": [
       "'newton gravity'"
      ]
     },
     "execution_count": 114,
     "metadata": {},
     "output_type": "execute_result"
    }
   ],
   "source": [
    "' '.join(['newton', 'gravity'])"
   ]
  },
  {
   "cell_type": "code",
   "execution_count": 115,
   "id": "dbd73d42",
   "metadata": {},
   "outputs": [
    {
     "data": {
      "text/plain": [
       "'newton8gravity'"
      ]
     },
     "execution_count": 115,
     "metadata": {},
     "output_type": "execute_result"
    }
   ],
   "source": [
    "'8'.join(['newton','gravity'])"
   ]
  },
  {
   "cell_type": "markdown",
   "id": "a5a32e39",
   "metadata": {},
   "source": [
    "###  25.)  ljust()"
   ]
  },
  {
   "cell_type": "markdown",
   "id": "79b23b16",
   "metadata": {},
   "source": [
    "### >   used to create a left-justified string of a specified width, padded with a specified character if necessary."
   ]
  },
  {
   "cell_type": "markdown",
   "id": "be12167f",
   "metadata": {},
   "source": [
    "###  >   It's often used for text formatting when you want to align text to the left within a fixed-width field."
   ]
  },
  {
   "cell_type": "markdown",
   "id": "f6effe69",
   "metadata": {},
   "source": [
    "###  >  Parameters:\n",
    "\n",
    "####  *  len: The width of string to expand it.\n",
    "\n",
    "\n",
    "###  *  fillchr (optional): The character to fill in the remaining space.\n",
    "\n",
    "\n",
    "###  >  Return:\n",
    "\n",
    "####  *  Returns a new string of given length after substituting a given character in right side of original string."
   ]
  },
  {
   "cell_type": "markdown",
   "id": "6730e04a",
   "metadata": {},
   "source": [
    "###  >   Syntax: ljust(len, fillchr)"
   ]
  },
  {
   "cell_type": "markdown",
   "id": "76a1107b",
   "metadata": {},
   "source": [
    "#### example"
   ]
  },
  {
   "cell_type": "code",
   "execution_count": 121,
   "id": "e74a8bd5",
   "metadata": {},
   "outputs": [
    {
     "ename": "NameError",
     "evalue": "name 'ljust' is not defined",
     "output_type": "error",
     "traceback": [
      "\u001b[1;31m---------------------------------------------------------------------------\u001b[0m",
      "\u001b[1;31mNameError\u001b[0m                                 Traceback (most recent call last)",
      "Cell \u001b[1;32mIn[121], line 3\u001b[0m\n\u001b[0;32m      1\u001b[0m text \u001b[38;5;241m=\u001b[39m \u001b[38;5;124m\"\u001b[39m\u001b[38;5;124mViram\u001b[39m\u001b[38;5;124m\"\u001b[39m\n\u001b[0;32m      2\u001b[0m width \u001b[38;5;241m=\u001b[39m \u001b[38;5;241m10\u001b[39m\n\u001b[1;32m----> 3\u001b[0m ljust(\u001b[38;5;124m'\u001b[39m\u001b[38;5;124m10\u001b[39m\u001b[38;5;124m'\u001b[39m,\u001b[38;5;124m'\u001b[39m\u001b[38;5;124m*\u001b[39m\u001b[38;5;124m'\u001b[39m)\n",
      "\u001b[1;31mNameError\u001b[0m: name 'ljust' is not defined"
     ]
    }
   ],
   "source": [
    "text = \"Viram\"\n",
    "width = 10\n",
    "ljust('10','*')"
   ]
  },
  {
   "cell_type": "markdown",
   "id": "c75bc2b1",
   "metadata": {},
   "source": [
    "###  26.) lower()"
   ]
  },
  {
   "cell_type": "markdown",
   "id": "f325b4aa",
   "metadata": {},
   "source": [
    "###         method in Python is used to convert a string to lowercase.\n",
    "\n",
    "\n",
    "###           It takes all the characters in the string and changes them to their lowercase equivalent."
   ]
  },
  {
   "cell_type": "markdown",
   "id": "69dfbc65",
   "metadata": {},
   "source": [
    "\n",
    "###  >  Parameters:\n",
    "\n",
    "####  *  The lower() method doesn’t take any parameters.\n",
    "\n",
    "\n",
    "###  >  Returns:\n",
    "\n",
    "####  *  Returns a lowercase string of the given string"
   ]
  },
  {
   "cell_type": "markdown",
   "id": "eab3beae",
   "metadata": {},
   "source": [
    "###  >  Syntax: string.lower()\n"
   ]
  },
  {
   "cell_type": "markdown",
   "id": "c047513c",
   "metadata": {},
   "source": [
    "### example --"
   ]
  },
  {
   "cell_type": "code",
   "execution_count": 126,
   "id": "823a9fae",
   "metadata": {},
   "outputs": [
    {
     "data": {
      "text/plain": [
       "'vikram is a good boy in class'"
      ]
     },
     "execution_count": 126,
     "metadata": {},
     "output_type": "execute_result"
    }
   ],
   "source": [
    "a='VIKRAM IS A GOOD BOY IN CLASS'\n",
    "a.lower()"
   ]
  },
  {
   "cell_type": "code",
   "execution_count": 129,
   "id": "087e45fe",
   "metadata": {},
   "outputs": [
    {
     "data": {
      "text/plain": [
       "<function str.islower()>"
      ]
     },
     "execution_count": 129,
     "metadata": {},
     "output_type": "execute_result"
    }
   ],
   "source": [
    "a='vikram is a good in class'\n",
    "a= a.islower\n",
    "a"
   ]
  },
  {
   "cell_type": "markdown",
   "id": "484251c0",
   "metadata": {},
   "source": [
    "###  27.)lstrip()"
   ]
  },
  {
   "cell_type": "markdown",
   "id": "9e33e5d1",
   "metadata": {},
   "source": [
    "###  >  method in Python is used to remove leading characters from the beginning (left side) of a string\n",
    "\n",
    "### that match any characters specified in the chars argument."
   ]
  },
  {
   "cell_type": "markdown",
   "id": "e20a955a",
   "metadata": {},
   "source": [
    "###   >  It returns a new string with the specified characters removed from the left side."
   ]
  },
  {
   "cell_type": "markdown",
   "id": "bc6aa466",
   "metadata": {},
   "source": [
    "\n",
    "###  >  Parameters:\n",
    "\n",
    "####  *  characters [optional]: A set of characters to remove as leading characters. By default, it uses space as the character to remove.\n",
    "\n",
    "\n",
    "###  >  Return:\n",
    "\n",
    "####  *  Returns a copy of the string with leading characters stripped."
   ]
  },
  {
   "cell_type": "markdown",
   "id": "46946167",
   "metadata": {},
   "source": [
    "###  >  Syntax: string.lstrip(characters)\n"
   ]
  },
  {
   "cell_type": "code",
   "execution_count": 132,
   "id": "b8394f21",
   "metadata": {},
   "outputs": [
    {
     "data": {
      "text/plain": [
       "'python'"
      ]
     },
     "execution_count": 132,
     "metadata": {},
     "output_type": "execute_result"
    }
   ],
   "source": [
    "a = 'python'\n",
    "a.lstrip('#')"
   ]
  },
  {
   "cell_type": "code",
   "execution_count": 133,
   "id": "4b5a7086",
   "metadata": {},
   "outputs": [
    {
     "data": {
      "text/plain": [
       "'python'"
      ]
     },
     "execution_count": 133,
     "metadata": {},
     "output_type": "execute_result"
    }
   ],
   "source": [
    "a='python'\n",
    "a.lstrip('*')\n",
    "a"
   ]
  },
  {
   "cell_type": "markdown",
   "id": "8d6e0e9a",
   "metadata": {},
   "source": [
    "##  28.)   partition()"
   ]
  },
  {
   "cell_type": "markdown",
   "id": "cdbe01e1",
   "metadata": {},
   "source": [
    " ###  > The partition() method in Python is used to split a string into three parts based on the first occurrence of a specified separator (sep). \n",
    " \n",
    " \n",
    "   ### >   It returns a tuple containing three elements:"
   ]
  },
  {
   "cell_type": "markdown",
   "id": "7369b7ec",
   "metadata": {},
   "source": [
    "### 1.The part of the string before the first occurrence of sep.\n",
    "###  2.The separator itself.\n",
    "###   3.The part of the string after the first occurrence of sep."
   ]
  },
  {
   "cell_type": "markdown",
   "id": "c4d3bd50",
   "metadata": {},
   "source": [
    "###  >  Parameters:\n",
    "\n",
    "####  *   separator: a substring that separates the string"
   ]
  },
  {
   "cell_type": "markdown",
   "id": "38ecc1ce",
   "metadata": {},
   "source": [
    "###   >   Syntax: string.partition(separator)\n"
   ]
  },
  {
   "cell_type": "markdown",
   "id": "6718742e",
   "metadata": {},
   "source": [
    "#### example--"
   ]
  },
  {
   "cell_type": "code",
   "execution_count": 137,
   "id": "fc8fdda2",
   "metadata": {},
   "outputs": [
    {
     "data": {
      "text/plain": [
       "'malayalam'"
      ]
     },
     "execution_count": 137,
     "metadata": {},
     "output_type": "execute_result"
    }
   ],
   "source": [
    "m = \"malayalam\"\n",
    "m"
   ]
  },
  {
   "cell_type": "code",
   "execution_count": 138,
   "id": "728e3279",
   "metadata": {},
   "outputs": [
    {
     "data": {
      "text/plain": [
       "('malayalam', '', '')"
      ]
     },
     "execution_count": 138,
     "metadata": {},
     "output_type": "execute_result"
    }
   ],
   "source": [
    "m.partition(' ')"
   ]
  },
  {
   "cell_type": "code",
   "execution_count": 145,
   "id": "e8ca3fa3",
   "metadata": {},
   "outputs": [
    {
     "data": {
      "text/plain": [
       "('apple,banana,cherry', '', '')"
      ]
     },
     "execution_count": 145,
     "metadata": {},
     "output_type": "execute_result"
    }
   ],
   "source": [
    "text = \"apple,banana,cherry\"\n",
    "text.partition(\" \")"
   ]
  },
  {
   "cell_type": "markdown",
   "id": "39368fe3",
   "metadata": {},
   "source": [
    "## 29.)   replace()"
   ]
  },
  {
   "cell_type": "markdown",
   "id": "2e6cd71d",
   "metadata": {},
   "source": [
    "### in this we can replace one word toanother word "
   ]
  },
  {
   "cell_type": "markdown",
   "id": "d8120e8b",
   "metadata": {},
   "source": [
    "###   >  Parameters:\n",
    "\n",
    "####  *  old – old substring you want to replace.\n",
    "\n",
    "\n",
    "###  >  new – new substring which would replace the old substring.\n",
    "\n",
    "###  >  count – (Optional ) the number of times you want to replace the old substring with the new substring.\n",
    "\n",
    "\n",
    "###  >  Return Value :\n",
    "\n",
    "####   *   It returns a copy of the string where all occurrences of a substring are replaced with another substring."
   ]
  },
  {
   "cell_type": "markdown",
   "id": "7ca4791d",
   "metadata": {},
   "source": [
    "###  >  Syntax: string.replace(old, new, count)"
   ]
  },
  {
   "cell_type": "markdown",
   "id": "7a931bd4",
   "metadata": {},
   "source": [
    "####  example --"
   ]
  },
  {
   "cell_type": "code",
   "execution_count": 147,
   "id": "1d6bbbea",
   "metadata": {},
   "outputs": [
    {
     "data": {
      "text/plain": [
       "'apple, vikram, cherry'"
      ]
     },
     "execution_count": 147,
     "metadata": {},
     "output_type": "execute_result"
    }
   ],
   "source": [
    "a = \"apple, banana, cherry\"\n",
    "a.replace('banana',\"vikram\")"
   ]
  },
  {
   "cell_type": "code",
   "execution_count": 148,
   "id": "68f373d5",
   "metadata": {},
   "outputs": [
    {
     "data": {
      "text/plain": [
       "'apple, banana, cherry'"
      ]
     },
     "execution_count": 148,
     "metadata": {},
     "output_type": "execute_result"
    }
   ],
   "source": [
    "a.replace('buffalo','apple')"
   ]
  },
  {
   "cell_type": "markdown",
   "id": "eac43846",
   "metadata": {},
   "source": [
    "##  30.)  rfind()"
   ]
  },
  {
   "cell_type": "markdown",
   "id": "77ea4cd5",
   "metadata": {},
   "source": [
    "### rfind is also called rightfind"
   ]
  },
  {
   "cell_type": "markdown",
   "id": "65be3493",
   "metadata": {},
   "source": [
    "###  >  but it would search from right to left , starting at the end of the string.\n",
    "\n",
    "###  >  it was very use full to find the words\n",
    "\n",
    "\n",
    "###   >  methods, which return -1 if the substring is not found"
   ]
  },
  {
   "cell_type": "markdown",
   "id": "27cf7924",
   "metadata": {},
   "source": [
    "###  >  Parameters:\n",
    "\n",
    "####  *  sub: It’s the substring that needs to be searched in the given string.\n",
    "\n",
    "####  *  start: Starting position where the sub needs to be checked within the string.\n",
    "####  *  end: Ending position where suffix needs to be checked within the string.\n",
    "\n",
    "\n",
    "###  ** Note: If start and end indexes are not provided then, by default it takes 0 and length-1 as starting and ending indexes where ending indexes are not included in our search."
   ]
  },
  {
   "cell_type": "markdown",
   "id": "85f0442e",
   "metadata": {},
   "source": [
    "###  >  Syntax: str.rfind(sub, start, end)"
   ]
  },
  {
   "cell_type": "markdown",
   "id": "df9a8ab0",
   "metadata": {},
   "source": [
    "####   example --"
   ]
  },
  {
   "cell_type": "code",
   "execution_count": 149,
   "id": "1e16412d",
   "metadata": {},
   "outputs": [
    {
     "data": {
      "text/plain": [
       "' can you can a can as a canner can can a can'"
      ]
     },
     "execution_count": 149,
     "metadata": {},
     "output_type": "execute_result"
    }
   ],
   "source": [
    "tt=''' can you can a can as a canner can can a can'''\n",
    "tt"
   ]
  },
  {
   "cell_type": "code",
   "execution_count": 150,
   "id": "59cd317c",
   "metadata": {},
   "outputs": [
    {
     "data": {
      "text/plain": [
       "19"
      ]
     },
     "execution_count": 150,
     "metadata": {},
     "output_type": "execute_result"
    }
   ],
   "source": [
    "tt.rfind('as')"
   ]
  },
  {
   "cell_type": "code",
   "execution_count": 151,
   "id": "e0ef477d",
   "metadata": {},
   "outputs": [
    {
     "data": {
      "text/plain": [
       "5"
      ]
     },
     "execution_count": 151,
     "metadata": {},
     "output_type": "execute_result"
    }
   ],
   "source": [
    "tt.rfind('you',3,10)"
   ]
  },
  {
   "cell_type": "markdown",
   "id": "5e970180",
   "metadata": {},
   "source": [
    "##   31.)   rindex()"
   ]
  },
  {
   "cell_type": "markdown",
   "id": "e946213b",
   "metadata": {},
   "source": [
    "###   >  the rindex() method is similar to the index () method in python's string method , but it reches for the last (rightmost) occurrency of a specified within a string"
   ]
  },
  {
   "cell_type": "markdown",
   "id": "235c362b",
   "metadata": {},
   "source": [
    "### > method which returns -1 the substring is not found"
   ]
  },
  {
   "cell_type": "markdown",
   "id": "271123e4",
   "metadata": {},
   "source": [
    "###  >  parameters:\n",
    "\n",
    "####  *  sub : It’s the substring which needs to be searched in the given string.\n",
    "\n",
    "\n",
    "###  *  start : Starting position where sub is needs to be checked within the string.\n",
    "###  *  end : Ending position where suffix is needs to be checked within the string.\n",
    "\n",
    "\n",
    "###  >  Return:\n",
    "\n",
    "####  *  Returns the highest index of the substring inside the string if substring is found.\n",
    "####      Otherwise it raises an exception."
   ]
  },
  {
   "cell_type": "markdown",
   "id": "879a7c6d",
   "metadata": {},
   "source": [
    "###  >  Syntax: str.rindex(sub, start, end)"
   ]
  },
  {
   "cell_type": "code",
   "execution_count": 2,
   "id": "da43b305",
   "metadata": {},
   "outputs": [
    {
     "data": {
      "text/plain": [
       "' can you can a can as a canner can can a can'"
      ]
     },
     "execution_count": 2,
     "metadata": {},
     "output_type": "execute_result"
    }
   ],
   "source": [
    "tt=''' can you can a can as a canner can can a can'''\n",
    "tt"
   ]
  },
  {
   "cell_type": "code",
   "execution_count": 3,
   "id": "73aefbd4",
   "metadata": {},
   "outputs": [
    {
     "data": {
      "text/plain": [
       "5"
      ]
     },
     "execution_count": 3,
     "metadata": {},
     "output_type": "execute_result"
    }
   ],
   "source": [
    "tt.rindex('you')"
   ]
  },
  {
   "cell_type": "code",
   "execution_count": 4,
   "id": "2687e8f1",
   "metadata": {},
   "outputs": [
    {
     "data": {
      "text/plain": [
       "42"
      ]
     },
     "execution_count": 4,
     "metadata": {},
     "output_type": "execute_result"
    }
   ],
   "source": [
    "tt.rindex('a',40)"
   ]
  },
  {
   "cell_type": "markdown",
   "id": "fe398b5d",
   "metadata": {},
   "source": [
    "## 32.)  rjust()"
   ]
  },
  {
   "cell_type": "markdown",
   "id": "b0740a67",
   "metadata": {},
   "source": [
    " ###  .>    it is used to create a right-justified string within a specified width, padded with a specified character if necessary."
   ]
  },
  {
   "cell_type": "markdown",
   "id": "54de6773",
   "metadata": {},
   "source": [
    "###  >  It's often used for text formatting when you want to align text to the right within a fixed-width field."
   ]
  },
  {
   "cell_type": "markdown",
   "id": "944bdb9b",
   "metadata": {},
   "source": [
    "###   >   Parameters:\n",
    "\n",
    "####  *   length: length of the modified string. If length is less than or equal to the length of the original string then original string is returned.\n",
    "\n",
    "####  *   fillchar: (optional) characters which needs to be padded. If it’s not provided, space is taken as a default argument.\n",
    "\n",
    "\n",
    "###  >  Return:\n",
    "####  *  Returns a new string of given length after substituting a given character in left side of original string."
   ]
  },
  {
   "cell_type": "markdown",
   "id": "7e78e1b3",
   "metadata": {},
   "source": [
    "###  >  Syntax: string.rjust(length, fillchar)"
   ]
  },
  {
   "cell_type": "markdown",
   "id": "b9637d9d",
   "metadata": {},
   "source": [
    "####  example--"
   ]
  },
  {
   "cell_type": "code",
   "execution_count": 5,
   "id": "b15bd9f3",
   "metadata": {},
   "outputs": [
    {
     "name": "stdout",
     "output_type": "stream",
     "text": [
      "****Python\n"
     ]
    }
   ],
   "source": [
    "text = \"Python\"\n",
    "width = 10\n",
    "fillchar = '*'\n",
    "                                                                            \n",
    "right_justified_text = text.rjust(width, fillchar)\n",
    "\n",
    "print(right_justified_text)"
   ]
  },
  {
   "cell_type": "code",
   "execution_count": 6,
   "id": "ed0795db",
   "metadata": {},
   "outputs": [
    {
     "name": "stdout",
     "output_type": "stream",
     "text": [
      "**************vikram\n"
     ]
    }
   ],
   "source": [
    "text = \"vikram\"\n",
    "width = 20\n",
    "fillchar = '*'\n",
    "\n",
    "right_justified_text = text.rjust(width, fillchar)\n",
    "\n",
    "print(right_justified_text)"
   ]
  },
  {
   "cell_type": "markdown",
   "id": "22e14c44",
   "metadata": {},
   "source": [
    "##  33.)    rpartition()"
   ]
  },
  {
   "cell_type": "markdown",
   "id": "0be653f2",
   "metadata": {},
   "source": [
    " ###  >   is used to split a string into three parts based on the last occurrence of a specified separator ."
   ]
  },
  {
   "cell_type": "markdown",
   "id": "19b1b592",
   "metadata": {},
   "source": [
    "###  >  Parameters :\n",
    "\n",
    "####  >  separator – separates the string at the first occurrence of it.\n",
    "\n",
    "\n",
    "###  >  Return Value :\n",
    "\n",
    "####  *  It returns the part the string before the separator, separator parameter itself, and the part after the separator if the separator parameter is found in the string.\n",
    "####  *  It returns two empty strings, followed by the given string if the separator is not found in the string."
   ]
  },
  {
   "cell_type": "code",
   "execution_count": null,
   "id": "6f7eca27",
   "metadata": {},
   "outputs": [],
   "source": [
    "It is similar to the partition() method but searches for the last occurrence of the separator from the end of the string.\n",
    "The method returns a tuple containing three elements:\n",
    "\n",
    "The part of the string before the last occurrence of the separator.\n",
    "The separator itself.\n",
    "The part of the string after the last occurrence of the separator.\n",
    "Here's the basic syntax of the rpartition() method:\n",
    "\n",
    "python\n",
    "Copy code\n",
    "string.rpartition(separator)\n",
    "string: This is the original string that you want to split.\n",
    "separator: This is the separator at which you want to split the string based on the last occurrence.\n",
    "Here's an example:\n",
    "\n",
    "python\n",
    "Copy code\n",
    "text = \"apple,banana,cherry,banana,apple\"\n",
    "parts = text.rpartition(\",\")\n",
    "\n",
    "print(parts)\n",
    "In this example, the rpartition() method splits the text string at the last comma (,).\n",
    "The output will be a tuple with three elements:\n",
    "\n",
    "arduino\n",
    "Copy code\n",
    "('apple,banana,cherry,banana', ',', 'apple')\n",
    "The first element of the tuple contains the part of the string before the last comma\n",
    "the second element contains the comma itself, and the third element contains the part of the string after the last comma.\n",
    "\n",
    "The rpartition() method is useful when you need to split a string into sections based on the last occurrence\n",
    "of a specific separatorand you want to work with those sections separately.\n",
    "\n",
    "\n",
    "\n",
    "\n",
    "\n"
   ]
  },
  {
   "cell_type": "markdown",
   "id": "dff21984",
   "metadata": {},
   "source": [
    "###  1.The part of the string before the last occurrence of the separator.\n",
    "###   2.The separator itself.\n",
    "###   3.The part of the string after the last occurrence of the separator."
   ]
  },
  {
   "cell_type": "markdown",
   "id": "2b2df7d9",
   "metadata": {},
   "source": [
    "###  >  Syntax : string.rpartition(separator)"
   ]
  },
  {
   "cell_type": "markdown",
   "id": "0027492b",
   "metadata": {},
   "source": [
    "### example --"
   ]
  },
  {
   "cell_type": "code",
   "execution_count": 7,
   "id": "8c19d587",
   "metadata": {},
   "outputs": [
    {
     "name": "stdout",
     "output_type": "stream",
     "text": [
      "('apple,banana,cherry,banana', ',', 'apple')\n"
     ]
    }
   ],
   "source": [
    "text = \"apple,banana,cherry,banana,apple\"\n",
    "parts = text.rpartition(\",\")\n",
    "\n",
    "print(parts)"
   ]
  },
  {
   "cell_type": "markdown",
   "id": "a4576299",
   "metadata": {},
   "source": [
    "##   34.)   rsplit"
   ]
  },
  {
   "cell_type": "markdown",
   "id": "3f881360",
   "metadata": {},
   "source": [
    " ###   >   it is used to split a string into a list of substrings, starting from the right (end of the string), based on a specified separator. "
   ]
  },
  {
   "cell_type": "markdown",
   "id": "122cfd1e",
   "metadata": {},
   "source": [
    "### >  It is similar to the split() method but splits the string from the right side."
   ]
  },
  {
   "cell_type": "markdown",
   "id": "e44b3eed",
   "metadata": {},
   "source": [
    "### >   You can also specify a maxsplit parameter to limit the number of splits."
   ]
  },
  {
   "cell_type": "markdown",
   "id": "e80d7e5b",
   "metadata": {},
   "source": [
    "###  >  Parameters:\n",
    "\n",
    "####  *  separator: The is a delimiter. The string splits at this specified separator starting from the right side. If not provided then any white space character is a separator.Parameters:\n",
    "\n",
    "####  *  maxsplit: It is a number, which tells us to split the string into a maximum of provided number of times. If it is not provided then there is no limit.\n"
   ]
  },
  {
   "cell_type": "markdown",
   "id": "61dc8e79",
   "metadata": {},
   "source": [
    "###  example --"
   ]
  },
  {
   "cell_type": "code",
   "execution_count": 8,
   "id": "0e0be031",
   "metadata": {},
   "outputs": [
    {
     "data": {
      "text/plain": [
       "' can you can a can as a canner can can a can'"
      ]
     },
     "execution_count": 8,
     "metadata": {},
     "output_type": "execute_result"
    }
   ],
   "source": [
    "tt= ' can you can a can as a canner can can a can'\n",
    "tt"
   ]
  },
  {
   "cell_type": "code",
   "execution_count": 9,
   "id": "835f2929",
   "metadata": {},
   "outputs": [
    {
     "data": {
      "text/plain": [
       "[' can ', ' can a can as a canner can can a can']"
      ]
     },
     "execution_count": 9,
     "metadata": {},
     "output_type": "execute_result"
    }
   ],
   "source": [
    "tt.rsplit('you')"
   ]
  },
  {
   "cell_type": "markdown",
   "id": "5bc02d6d",
   "metadata": {},
   "source": [
    "#### maxsplit()"
   ]
  },
  {
   "cell_type": "code",
   "execution_count": 12,
   "id": "c50905ed",
   "metadata": {},
   "outputs": [
    {
     "data": {
      "text/plain": [
       "'can you can a can as a canner can can a can'"
      ]
     },
     "execution_count": 12,
     "metadata": {},
     "output_type": "execute_result"
    }
   ],
   "source": [
    " tt='can you can a can as a canner can can a can'\n",
    "tt"
   ]
  },
  {
   "cell_type": "code",
   "execution_count": 16,
   "id": "228ebe74",
   "metadata": {},
   "outputs": [
    {
     "data": {
      "text/plain": [
       "['can you can a can as a canner can can', 'a', 'can']"
      ]
     },
     "execution_count": 16,
     "metadata": {},
     "output_type": "execute_result"
    }
   ],
   "source": [
    "tt.rsplit(maxsplit=2)"
   ]
  },
  {
   "cell_type": "code",
   "execution_count": 17,
   "id": "0e273a00",
   "metadata": {},
   "outputs": [
    {
     "data": {
      "text/plain": [
       "['can you can a can as a canner can', 'can', 'a', 'can']"
      ]
     },
     "execution_count": 17,
     "metadata": {},
     "output_type": "execute_result"
    }
   ],
   "source": [
    "tt.rsplit(maxsplit=3)"
   ]
  },
  {
   "cell_type": "markdown",
   "id": "51928ddb",
   "metadata": {},
   "source": [
    "##  36.)   split()"
   ]
  },
  {
   "cell_type": "markdown",
   "id": "766646aa",
   "metadata": {},
   "source": [
    "  ###  >   it is used to split a string into a list of substrings based on a specified separator (or delimiter)."
   ]
  },
  {
   "cell_type": "markdown",
   "id": "906ffbe8",
   "metadata": {},
   "source": [
    " ###  >   It's a common and versatile method for text processing and data extraction."
   ]
  },
  {
   "cell_type": "markdown",
   "id": "139443c5",
   "metadata": {},
   "source": [
    "###  >  Parameters:\n",
    "\n",
    "####  *  chars (optional) – a string specifying the set of characters to be removed.\n",
    "\n",
    "\n",
    "###  >  Return:\n",
    "####  *  Returns a copy of the string with trailing characters stripped"
   ]
  },
  {
   "cell_type": "markdown",
   "id": "bfdc0f2c",
   "metadata": {},
   "source": [
    "#### example --"
   ]
  },
  {
   "cell_type": "code",
   "execution_count": 18,
   "id": "2f45f51c",
   "metadata": {},
   "outputs": [
    {
     "name": "stdout",
     "output_type": "stream",
     "text": [
      "['apple', 'banana', 'cherry', 'dates', 'figs']\n"
     ]
    }
   ],
   "source": [
    "text = \"apple,banana,cherry,dates,figs\"\n",
    "parts = text.split(\",\")\n",
    "\n",
    "print(parts)"
   ]
  },
  {
   "cell_type": "markdown",
   "id": "e6425cd2",
   "metadata": {},
   "source": [
    "#### maxsplit"
   ]
  },
  {
   "cell_type": "code",
   "execution_count": 19,
   "id": "b68134f6",
   "metadata": {},
   "outputs": [
    {
     "name": "stdout",
     "output_type": "stream",
     "text": [
      "['apple', 'banana', 'cherry,dates,figs']\n"
     ]
    }
   ],
   "source": [
    "text = \"apple,banana,cherry,dates,figs\"\n",
    "parts = text.split(\",\", 2)\n",
    "\n",
    "print(parts)"
   ]
  },
  {
   "cell_type": "markdown",
   "id": "3148fadd",
   "metadata": {},
   "source": [
    " ## 37.)  splitlines"
   ]
  },
  {
   "cell_type": "markdown",
   "id": "750a345f",
   "metadata": {},
   "source": [
    "###  >  Splits the string at line breaks and returns a list of lines."
   ]
  },
  {
   "cell_type": "markdown",
   "id": "9eefa2e9",
   "metadata": {},
   "source": [
    "  ### >   is used to split a string at line breaks (newline characters) and return a list of lines."
   ]
  },
  {
   "cell_type": "markdown",
   "id": "6f96b036",
   "metadata": {},
   "source": [
    "### >    It's particularly useful when you have multiline text and want to break it into individual lines."
   ]
  },
  {
   "cell_type": "markdown",
   "id": "9e79347b",
   "metadata": {},
   "source": [
    "###  >  Parameters:\n",
    "\n",
    "####  *  keepends (optional): When set to True line breaks are included in the resulting list.\n",
    "####  *  This can be a number, specifying the position of line break or, can be any Unicode characters, like “\\n”, “\\r”, “\\r\\n”, etc as boundaries for strings.\n",
    "\n",
    "\n",
    "###  >  Return Value:\n",
    "\n",
    "####  * Returns a list of the lines in the string, breaking at line boundaries."
   ]
  },
  {
   "cell_type": "markdown",
   "id": "84d718f7",
   "metadata": {},
   "source": [
    "###  > Syntax: string.splitlines([keepends])"
   ]
  },
  {
   "cell_type": "markdown",
   "id": "822d6697",
   "metadata": {},
   "source": [
    "#### example --"
   ]
  },
  {
   "cell_type": "code",
   "execution_count": 20,
   "id": "2c20b87c",
   "metadata": {},
   "outputs": [
    {
     "name": "stdout",
     "output_type": "stream",
     "text": [
      "['Line 1', 'Line 2', 'Line 3']\n"
     ]
    }
   ],
   "source": [
    "text = \"Line 1\\nLine 2\\nLine 3\"\n",
    "lines = text.splitlines()\n",
    "\n",
    "print(lines)"
   ]
  },
  {
   "cell_type": "code",
   "execution_count": 21,
   "id": "289ac60f",
   "metadata": {},
   "outputs": [
    {
     "name": "stdout",
     "output_type": "stream",
     "text": [
      "['Line 1\\n', 'Line 2\\n', 'Line 3']\n"
     ]
    }
   ],
   "source": [
    "text = \"Line 1\\nLine 2\\nLine 3\"\n",
    "lines = text.splitlines(keepends=True)\n",
    "\n",
    "print(lines)"
   ]
  },
  {
   "cell_type": "markdown",
   "id": "e5eea2ce",
   "metadata": {},
   "source": [
    "##  38.)startswith()"
   ]
  },
  {
   "cell_type": "markdown",
   "id": "103a0971",
   "metadata": {},
   "source": [
    "###  >  is used to check if a given string starts with a specified prefix."
   ]
  },
  {
   "cell_type": "markdown",
   "id": "85fa4bb5",
   "metadata": {},
   "source": [
    " ### >     It returns True if the string begins with the prefix, and False otherwise."
   ]
  },
  {
   "cell_type": "markdown",
   "id": "0f640879",
   "metadata": {},
   "source": [
    "###  >  Parameters:\n",
    "\n",
    "####    prefix: prefix ix nothing but a string that needs to be checked.\n",
    "\n",
    "\n",
    "####  *  start: Starting position where prefix is needed to be checked within the string.\n",
    "####  *  end: Ending position where prefix is needed to be checked within the string.\n",
    "\n",
    "\n",
    "###  >  Return:\n",
    "\n",
    "####  Returns True if strings start with the given prefix otherwise returns False"
   ]
  },
  {
   "cell_type": "markdown",
   "id": "dc0dc254",
   "metadata": {},
   "source": [
    "###  >  Syntax: str.startswith(prefix, start, end)"
   ]
  },
  {
   "cell_type": "markdown",
   "id": "87ce499e",
   "metadata": {},
   "source": [
    "#### example --"
   ]
  },
  {
   "cell_type": "code",
   "execution_count": 24,
   "id": "4175edbf",
   "metadata": {},
   "outputs": [
    {
     "name": "stdout",
     "output_type": "stream",
     "text": [
      "The string starts with 'Hello'.\n"
     ]
    }
   ],
   "source": [
    "text = \"Hello, World!\"\n",
    "result = text.startswith(\"Hello\")\n",
    "\n",
    "if result:\n",
    "    print(\"The string starts with 'Hello'.\")\n"
   ]
  },
  {
   "cell_type": "code",
   "execution_count": 27,
   "id": "95fd5011",
   "metadata": {},
   "outputs": [
    {
     "data": {
      "text/plain": [
       "False"
      ]
     },
     "execution_count": 27,
     "metadata": {},
     "output_type": "execute_result"
    }
   ],
   "source": [
    "text = \"Hello, World!\"\n",
    "result = text.startswith(\"World\", 9)\n",
    "result\n"
   ]
  },
  {
   "cell_type": "code",
   "execution_count": 25,
   "id": "3467b906",
   "metadata": {},
   "outputs": [
    {
     "data": {
      "text/plain": [
       "True"
      ]
     },
     "execution_count": 25,
     "metadata": {},
     "output_type": "execute_result"
    }
   ],
   "source": [
    "text = \"Hello, World!\"\n",
    "result = text.startswith(\"World\", 7)\n",
    "result"
   ]
  },
  {
   "cell_type": "markdown",
   "id": "6a842c70",
   "metadata": {},
   "source": [
    "## 39.)  strip()"
   ]
  },
  {
   "cell_type": "markdown",
   "id": "5b72a9bb",
   "metadata": {},
   "source": [
    "  ### >  is used to remove specified leading and trailing characters from a string."
   ]
  },
  {
   "cell_type": "markdown",
   "id": "f70bba45",
   "metadata": {},
   "source": [
    "### >  You can specify a string of characters that you want to strip from both the beginning and the end of the original string."
   ]
  },
  {
   "cell_type": "markdown",
   "id": "362287ca",
   "metadata": {},
   "source": [
    "###  >  Parameter:\n",
    "\n",
    "####  *  There is only one optional parameter in it. chars – a string specifying the set of characters to be removed.\n",
    "####  *  If the optional chars parameter is not given, all leading and trailing whitespaces are removed from the string.\n",
    "\n",
    "\n",
    "###  >  Return Value:\n",
    "\n",
    "####  Returns a copy of the string with both leading and trailing characters removed."
   ]
  },
  {
   "cell_type": "markdown",
   "id": "c264b1ee",
   "metadata": {},
   "source": [
    "###  >  Syntax: string.strip([chars])"
   ]
  },
  {
   "cell_type": "markdown",
   "id": "0e4c0cc0",
   "metadata": {},
   "source": [
    "###  example--"
   ]
  },
  {
   "cell_type": "code",
   "execution_count": 28,
   "id": "d28458cf",
   "metadata": {},
   "outputs": [
    {
     "name": "stdout",
     "output_type": "stream",
     "text": [
      "This is a sample text.\n"
     ]
    }
   ],
   "source": [
    "text = \"   This is a sample text.   \"\n",
    "stripped_text = text.strip()\n",
    "\n",
    "print(stripped_text)"
   ]
  },
  {
   "cell_type": "code",
   "execution_count": 29,
   "id": "f1417d3d",
   "metadata": {},
   "outputs": [
    {
     "name": "stdout",
     "output_type": "stream",
     "text": [
      "Python is awesome!\n"
     ]
    }
   ],
   "source": [
    "text = \"%%%Python is awesome!%%%\"\n",
    "stripped_text = text.strip(\"%\")\n",
    "\n",
    "print(stripped_text)"
   ]
  },
  {
   "cell_type": "markdown",
   "id": "83a3a1ca",
   "metadata": {},
   "source": [
    "## 40.)  swapcase()"
   ]
  },
  {
   "cell_type": "markdown",
   "id": "96f0ad70",
   "metadata": {},
   "source": [
    "###  >   method in Python is used to swap the case of each character in a string."
   ]
  },
  {
   "cell_type": "markdown",
   "id": "b9dba90c",
   "metadata": {},
   "source": [
    "###  >   It converts lowercase characters to uppercase and uppercase characters to lowercase within the string, effectively changing the case of all characters."
   ]
  },
  {
   "cell_type": "markdown",
   "id": "dd10f000",
   "metadata": {},
   "source": [
    "###  >  Parameter:\n",
    "\n",
    "####  The swapcase() method does not take any parameter.\n",
    "\n",
    "\n",
    "###  >  Return Value:\n",
    "\n",
    "###  The swapcase() method returns a string with all the cases changed.\n"
   ]
  },
  {
   "cell_type": "markdown",
   "id": "d4504638",
   "metadata": {},
   "source": [
    "###  example --"
   ]
  },
  {
   "cell_type": "code",
   "execution_count": 30,
   "id": "77e9a066",
   "metadata": {},
   "outputs": [
    {
     "name": "stdout",
     "output_type": "stream",
     "text": [
      "hELLO, wORLD!\n"
     ]
    }
   ],
   "source": [
    "text = \"Hello, World!\"\n",
    "swapped_text = text.swapcase()\n",
    "\n",
    "print(swapped_text)"
   ]
  },
  {
   "cell_type": "code",
   "execution_count": 31,
   "id": "c58ccc3a",
   "metadata": {},
   "outputs": [
    {
     "name": "stdout",
     "output_type": "stream",
     "text": [
      "hELLO, bHARATH!\n"
     ]
    }
   ],
   "source": [
    "text = \"Hello, Bharath!\"\n",
    "swapped_text = text.swapcase()\n",
    "\n",
    "print(swapped_text)"
   ]
  },
  {
   "cell_type": "markdown",
   "id": "b768d3b5",
   "metadata": {},
   "source": [
    "##   41.)  title()"
   ]
  },
  {
   "cell_type": "markdown",
   "id": "3c6c3379",
   "metadata": {},
   "source": [
    "###  >   method in Python is used to convert a string to title case. "
   ]
  },
  {
   "cell_type": "markdown",
   "id": "10c9fa25",
   "metadata": {},
   "source": [
    "###  >    Title case means that the first character of each word is capitalized (in uppercase),\n",
    "###  and all other characters are in lowercase."
   ]
  },
  {
   "cell_type": "markdown",
   "id": "3e2b90a0",
   "metadata": {},
   "source": [
    "\n",
    "###  >   parameters:\n",
    "\n",
    "####  title() doesn’t accept any parameter."
   ]
  },
  {
   "cell_type": "markdown",
   "id": "400b52e5",
   "metadata": {},
   "source": [
    "###  >  Syntax: str.title()\n"
   ]
  },
  {
   "cell_type": "markdown",
   "id": "16f140a6",
   "metadata": {},
   "source": [
    "###  example --"
   ]
  },
  {
   "cell_type": "code",
   "execution_count": 32,
   "id": "c446ba06",
   "metadata": {},
   "outputs": [
    {
     "name": "stdout",
     "output_type": "stream",
     "text": [
      "This Is A Title Example\n"
     ]
    }
   ],
   "source": [
    "text = \"this is a title example\"\n",
    "title_text = text.title()\n",
    "\n",
    "print(title_text)"
   ]
  },
  {
   "cell_type": "code",
   "execution_count": 33,
   "id": "f90113aa",
   "metadata": {},
   "outputs": [
    {
     "name": "stdout",
     "output_type": "stream",
     "text": [
      "Vikram Is A Very Good Boy\n"
     ]
    }
   ],
   "source": [
    "text = \"vikram is a very good boy\"\n",
    "title_text = text.title()\n",
    "\n",
    "print(title_text)"
   ]
  },
  {
   "cell_type": "markdown",
   "id": "6c8efc35",
   "metadata": {},
   "source": [
    "## 42.)  translate()"
   ]
  },
  {
   "cell_type": "markdown",
   "id": "0d414f2c",
   "metadata": {},
   "source": [
    " ###  >  Python is used to translate a string according to a specified translation table."
   ]
  },
  {
   "cell_type": "markdown",
   "id": "5a85426d",
   "metadata": {},
   "source": [
    "###  >   This method is typically used for performing character-level replacements or transformations in a string."
   ]
  },
  {
   "cell_type": "markdown",
   "id": "b506e245",
   "metadata": {},
   "source": [
    "### example --"
   ]
  },
  {
   "cell_type": "code",
   "execution_count": 34,
   "id": "8d80d432",
   "metadata": {},
   "outputs": [
    {
     "name": "stdout",
     "output_type": "stream",
     "text": [
      "Hello, World!\n"
     ]
    }
   ],
   "source": [
    "text = \"H3ll0, W0rld!\"\n",
    "translation_table = str.maketrans(\"30\", \"eo\")\n",
    "translated_text = text.translate(translation_table)\n",
    "\n",
    "print(translated_text)"
   ]
  },
  {
   "cell_type": "code",
   "execution_count": 35,
   "id": "11de0bd8",
   "metadata": {},
   "outputs": [
    {
     "name": "stdout",
     "output_type": "stream",
     "text": [
      "Hello, vikram!\n"
     ]
    }
   ],
   "source": [
    "text = \"H3ll0, vikram!\"\n",
    "translation_table = str.maketrans(\"30\", \"eo\")\n",
    "translated_text = text.translate(translation_table)\n",
    "\n",
    "print(translated_text)"
   ]
  },
  {
   "cell_type": "markdown",
   "id": "8b85a6b3",
   "metadata": {},
   "source": [
    "##  43.)   upper()"
   ]
  },
  {
   "cell_type": "markdown",
   "id": "11d92e42",
   "metadata": {},
   "source": [
    "### >   Python is used to convert a string to uppercase. "
   ]
  },
  {
   "cell_type": "markdown",
   "id": "9aa38c1c",
   "metadata": {},
   "source": [
    "###  >   It changes all characters in the string to their uppercase (capital letter) equivalents.  "
   ]
  },
  {
   "cell_type": "markdown",
   "id": "f39cdee2",
   "metadata": {},
   "source": [
    "###  >  Parameters:\n",
    "\n",
    "####  The upper() method doesn’t take any parameters.\n",
    "\n",
    "\n",
    "###  >  Returns:\n",
    "\n",
    "####  returns an uppercased string of the given string."
   ]
  },
  {
   "cell_type": "markdown",
   "id": "76e248f7",
   "metadata": {},
   "source": [
    "###  >  Syntax: string.upper()"
   ]
  },
  {
   "cell_type": "markdown",
   "id": "069c537d",
   "metadata": {},
   "source": [
    "### example --"
   ]
  },
  {
   "cell_type": "code",
   "execution_count": 36,
   "id": "60896fd1",
   "metadata": {},
   "outputs": [
    {
     "name": "stdout",
     "output_type": "stream",
     "text": [
      "HELLO, WORLD!\n"
     ]
    }
   ],
   "source": [
    "text = \"Hello, World!\"\n",
    "uppercase_text = text.upper()\n",
    "\n",
    "print(uppercase_text)"
   ]
  },
  {
   "cell_type": "code",
   "execution_count": 37,
   "id": "15907ee3",
   "metadata": {},
   "outputs": [
    {
     "name": "stdout",
     "output_type": "stream",
     "text": [
      "HELLO, VIKRAM!\n"
     ]
    }
   ],
   "source": [
    "text = \"Hello, vikram!\"\n",
    "uppercase_text = text.upper()\n",
    "\n",
    "print(uppercase_text)"
   ]
  },
  {
   "cell_type": "markdown",
   "id": "f146c496",
   "metadata": {},
   "source": [
    "##  44.)    strip()"
   ]
  },
  {
   "cell_type": "markdown",
   "id": "683feb50",
   "metadata": {},
   "source": [
    "###  >   in Python is used to remove specified leading and trailing characters from a string. "
   ]
  },
  {
   "cell_type": "markdown",
   "id": "8346fb8e",
   "metadata": {},
   "source": [
    "### >   You can provide a string of characters that you want to strip from both the beginning and the end of the original string."
   ]
  },
  {
   "cell_type": "markdown",
   "id": "66c2220c",
   "metadata": {},
   "source": [
    "###  >  Parameter:\n",
    "\n",
    "####  There is only one optional parameter in it. chars – a string specifying the set of characters to be removed.\n",
    "\n",
    "####  *  If the optional chars parameter is not given, all leading and trailing whitespaces are removed from the string.\n",
    "\n",
    "\n",
    "###  >  Return Value:\n",
    "\n",
    "####  *  Returns a copy of the string with both leading and trailing characters removed."
   ]
  },
  {
   "cell_type": "markdown",
   "id": "41d0599d",
   "metadata": {},
   "source": [
    "###  >   Syntax: string.strip([chars])"
   ]
  },
  {
   "cell_type": "markdown",
   "id": "1686efc2",
   "metadata": {},
   "source": [
    "### example --"
   ]
  },
  {
   "cell_type": "code",
   "execution_count": 40,
   "id": "861b57d2",
   "metadata": {},
   "outputs": [
    {
     "name": "stdout",
     "output_type": "stream",
     "text": [
      "This is a sample text.\n"
     ]
    }
   ],
   "source": [
    "text = \"   This is a sample text.   \"\n",
    "stripped_text = text.strip()\n",
    "\n",
    "print(stripped_text)"
   ]
  },
  {
   "cell_type": "code",
   "execution_count": 41,
   "id": "ddb0ecb6",
   "metadata": {},
   "outputs": [
    {
     "name": "stdout",
     "output_type": "stream",
     "text": [
      "vikram is very good boy.\n"
     ]
    }
   ],
   "source": [
    "text = \"   vikram is very good boy.   \"\n",
    "stripped_text = text.strip()\n",
    "\n",
    "print(stripped_text)"
   ]
  },
  {
   "cell_type": "markdown",
   "id": "2a6a7a53",
   "metadata": {},
   "source": [
    "## 45.)    zfill()"
   ]
  },
  {
   "cell_type": "markdown",
   "id": "895a391d",
   "metadata": {},
   "source": [
    " ###  >  method in Python is used to pad a string with zeros (0) on the left side, ensuring that the resulting string has a specified width."
   ]
  },
  {
   "cell_type": "markdown",
   "id": "6048a486",
   "metadata": {},
   "source": [
    "###  >   This is often used when you want to format a string to have a fixed width with leading zeros.  "
   ]
  },
  {
   "cell_type": "markdown",
   "id": "f5e8adac",
   "metadata": {},
   "source": [
    "###  >   Parameters:\n",
    "\n",
    "####     length: length is the length of the returned string from zfill() with ‘0’ digits filled to the leftside.\n",
    "\n",
    "\n",
    "###  >  Return:\n",
    "\n",
    "####  Returns a copy of the string with ‘0’ characters padded to the left side of the given string."
   ]
  },
  {
   "cell_type": "markdown",
   "id": "5985a512",
   "metadata": {},
   "source": [
    "###  >   Syntax: str.zfill(length)"
   ]
  },
  {
   "cell_type": "markdown",
   "id": "e06a0669",
   "metadata": {},
   "source": [
    "### example -- "
   ]
  },
  {
   "cell_type": "code",
   "execution_count": 45,
   "id": "ba83160a",
   "metadata": {},
   "outputs": [
    {
     "name": "stdout",
     "output_type": "stream",
     "text": [
      "00042\n"
     ]
    }
   ],
   "source": [
    "text = \"42\"\n",
    "padded_text = text.zfill(5)\n",
    "\n",
    "print(padded_text)"
   ]
  },
  {
   "cell_type": "code",
   "execution_count": 46,
   "id": "d6514ea8",
   "metadata": {},
   "outputs": [
    {
     "name": "stdout",
     "output_type": "stream",
     "text": [
      "00050\n"
     ]
    }
   ],
   "source": [
    "text = \"50\"\n",
    "padded_text = text.zfill(5)\n",
    "\n",
    "print(padded_text)"
   ]
  },
  {
   "cell_type": "markdown",
   "id": "553a52a2",
   "metadata": {},
   "source": [
    "#  Conclusion:"
   ]
  },
  {
   "cell_type": "markdown",
   "id": "0dc28a04",
   "metadata": {},
   "source": [
    "####  >> this is the conclusion that \n",
    "\n",
    "###  *   explaning all strings methods\n",
    " ###  *  including example, parameters, return type"
   ]
  }
 ],
 "metadata": {
  "kernelspec": {
   "display_name": "Python 3 (ipykernel)",
   "language": "python",
   "name": "python3"
  },
  "language_info": {
   "codemirror_mode": {
    "name": "ipython",
    "version": 3
   },
   "file_extension": ".py",
   "mimetype": "text/x-python",
   "name": "python",
   "nbconvert_exporter": "python",
   "pygments_lexer": "ipython3",
   "version": "3.11.5"
  }
 },
 "nbformat": 4,
 "nbformat_minor": 5
}
